{
 "cells": [
  {
   "cell_type": "code",
   "execution_count": 1,
   "metadata": {},
   "outputs": [],
   "source": [
    "import numpy as np"
   ]
  },
  {
   "cell_type": "code",
   "execution_count": null,
   "metadata": {},
   "outputs": [
    {
     "name": "stdout",
     "output_type": "stream",
     "text": [
      "u.shape = (6,)\n",
      "u = [1 2 3 4 5 6]\n",
      "v.shape= (2, 3)\n",
      "v=[[1 2 3]\n",
      " [4 5 6]]\n",
      "u = [9 2 3 4 5 6]\n"
     ]
    }
   ],
   "source": [
    "# Creating a 1D array\n",
    "u = np.array([1,2,3,4,5,6])\n",
    "print(f'u.shape = {u.shape}')\n",
    "print(f'u = {u}')\n",
    "\n",
    "# Reshape the array\n",
    "v = u.reshape(2,3)\n",
    "print(f'v.shape= {v.shape}')\n",
    "print(f'v={v}')\n",
    "\n",
    "# Reshape não cria uma cópia\n",
    "v[0,0] = 9\n",
    "print(f'u = {u}')"
   ]
  },
  {
   "cell_type": "code",
   "execution_count": null,
   "metadata": {},
   "outputs": [
    {
     "name": "stdout",
     "output_type": "stream",
     "text": [
      "Memory usage:\n",
      "int8_array     = 9.54 MB\n",
      "int16_array    = 19.07 MB\n",
      "int32_array    = 38.15 MB\n",
      "int64_array    = 76.29 MB\n",
      "float32_array  = 38.15 MB\n",
      "float64_array  = 76.29 MB\n",
      "float128_array = 152.59 MB\n",
      "\n",
      "Execution time:\n",
      "int8_array    = 0.004 s\n",
      "int16_array   = 0.018 s\n",
      "int32_array   = 0.017 s\n",
      "int64_array   = 0.030 s\n",
      "float32\n",
      "float32_array = 0.017 s\n",
      "float64\n",
      "float64_array = 0.029 s\n",
      "float128\n",
      "float128_array= 0.083 s\n"
     ]
    }
   ],
   "source": [
    "import numpy as np\n",
    "import time\n",
    "\n",
    "# Define the size of the array\n",
    "array_size = 10_000_000\n",
    "\n",
    "# Create arrays with different data types\n",
    "int8_array = np.random.randint(0, 1, size=array_size, dtype=np.int8)\n",
    "int16_array = np.random.randint(0, 32, size=array_size, dtype=np.int16)\n",
    "int32_array = np.random.randint(0, 32, size=array_size, dtype=np.int32)\n",
    "int64_array = np.random.randint(0, 32, size=array_size, dtype=np.int64)\n",
    "\n",
    "float32_array = np.random.rand(array_size).astype(np.float32)\n",
    "float64_array = np.random.rand(array_size).astype(np.float64)\n",
    "float128_array = np.random.rand(array_size).astype(np.float128)\n",
    "\n",
    "def memory_MB(array):\n",
    "    return array.nbytes / 1024**2   # Convert bytes to MB\n",
    "\n",
    "# Check the memory usage of each array\n",
    "print(f'Memory usage:')\n",
    "print(f'int8_array     = {memory_MB(int8_array):.2f} MB')\n",
    "print(f'int16_array    = {memory_MB(int16_array):.2f} MB')\n",
    "print(f'int32_array    = {memory_MB(int32_array):.2f} MB')\n",
    "print(f'int64_array    = {memory_MB(int64_array):.2f} MB')\n",
    "print('')  # Empty line\n",
    "print(f'float32_array  = {memory_MB(float32_array):.2f} MB')\n",
    "print(f'float64_array  = {memory_MB(float64_array):.2f} MB')\n",
    "print(f'float128_array = {memory_MB(float128_array):.2f} MB')"
   ]
  },
  {
   "cell_type": "code",
   "execution_count": null,
   "metadata": {},
   "outputs": [
    {
     "name": "stdout",
     "output_type": "stream",
     "text": [
      "\n",
      "Execution time:\n",
      "int8_array    = 0.004 s\n",
      "int16_array   = 0.017 s\n",
      "int32_array   = 0.017 s\n",
      "int64_array   = 0.029 s\n",
      "\n",
      "float32_array = 0.017 s\n",
      "float64_array = 0.028 s\n",
      "float128_array= 0.084 s\n"
     ]
    }
   ],
   "source": [
    "def check_performance(x):\n",
    "    num_runs = 100\n",
    "    tic = time.time()\n",
    "    result = x.copy()\n",
    "    for i in range(num_runs):\n",
    "        result += 2 * x + 3\n",
    "    toc = time.time()\n",
    "    mean_time = (toc - tic) / num_runs\n",
    "    return mean_time\n",
    "\n",
    "print(f'\\nExecution time:')\n",
    "print(f'int8_array    = {check_performance(int8_array):.3f} s')\n",
    "print(f'int16_array   = {check_performance(int32_array):.3f} s')\n",
    "print(f'int32_array   = {check_performance(int32_array):.3f} s')\n",
    "print(f'int64_array   = {check_performance(int64_array):.3f} s')\n",
    "print('')  # Empty line\n",
    "print(f'float32_array = {check_performance(float32_array):.3f} s')\n",
    "print(f'float64_array = {check_performance(float64_array):.3f} s')\n",
    "print(f'float128_array= {check_performance(float128_array):.3f} s')"
   ]
  }
 ],
 "metadata": {
  "kernelspec": {
   "display_name": ".venv",
   "language": "python",
   "name": "python3"
  },
  "language_info": {
   "codemirror_mode": {
    "name": "ipython",
    "version": 3
   },
   "file_extension": ".py",
   "mimetype": "text/x-python",
   "name": "python",
   "nbconvert_exporter": "python",
   "pygments_lexer": "ipython3",
   "version": "3.11.0rc1"
  }
 },
 "nbformat": 4,
 "nbformat_minor": 2
}
