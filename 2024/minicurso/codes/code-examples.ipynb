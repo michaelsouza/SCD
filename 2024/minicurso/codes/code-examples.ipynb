{
 "cells": [
  {
   "cell_type": "code",
   "execution_count": 1,
   "metadata": {},
   "outputs": [],
   "source": [
    "import numpy as np"
   ]
  },
  {
   "cell_type": "code",
   "execution_count": null,
   "metadata": {},
   "outputs": [
    {
     "name": "stdout",
     "output_type": "stream",
     "text": [
      "u.shape = (6,)\n",
      "u = [1 2 3 4 5 6]\n",
      "v.shape= (2, 3)\n",
      "v=[[1 2 3]\n",
      " [4 5 6]]\n",
      "u = [9 2 3 4 5 6]\n"
     ]
    }
   ],
   "source": [
    "# Creating a 1D array\n",
    "u = np.array([1,2,3,4,5,6])\n",
    "print(f'u.shape = {u.shape}')\n",
    "print(f'u = {u}')\n",
    "\n",
    "# Reshape the array\n",
    "v = u.reshape(2,3)\n",
    "print(f'v.shape= {v.shape}')\n",
    "print(f'v={v}')\n",
    "\n",
    "# Reshape não cria uma cópia\n",
    "v[0,0] = 9\n",
    "print(f'u = {u}')"
   ]
  },
  {
   "cell_type": "code",
   "execution_count": null,
   "metadata": {},
   "outputs": [
    {
     "name": "stdout",
     "output_type": "stream",
     "text": [
      "Memory usage:\n",
      "int8_array     = 9.54 MB\n",
      "int16_array    = 19.07 MB\n",
      "int32_array    = 38.15 MB\n",
      "int64_array    = 76.29 MB\n",
      "float32_array  = 38.15 MB\n",
      "float64_array  = 76.29 MB\n",
      "float128_array = 152.59 MB\n",
      "\n",
      "Execution time:\n",
      "int8_array    = 0.004 s\n",
      "int16_array   = 0.018 s\n",
      "int32_array   = 0.017 s\n",
      "int64_array   = 0.030 s\n",
      "float32\n",
      "float32_array = 0.017 s\n",
      "float64\n",
      "float64_array = 0.029 s\n",
      "float128\n",
      "float128_array= 0.083 s\n"
     ]
    }
   ],
   "source": [
    "import numpy as np\n",
    "import time\n",
    "\n",
    "# Define the size of the array\n",
    "array_size = 10_000_000\n",
    "\n",
    "# Create arrays with different data types\n",
    "int8_array = np.random.randint(0, 1, size=array_size, dtype=np.int8)\n",
    "int16_array = np.random.randint(0, 32, size=array_size, dtype=np.int16)\n",
    "int32_array = np.random.randint(0, 32, size=array_size, dtype=np.int32)\n",
    "int64_array = np.random.randint(0, 32, size=array_size, dtype=np.int64)\n",
    "\n",
    "float32_array = np.random.rand(array_size).astype(np.float32)\n",
    "float64_array = np.random.rand(array_size).astype(np.float64)\n",
    "float128_array = np.random.rand(array_size).astype(np.float128)\n",
    "\n",
    "def memory_MB(array):\n",
    "    return array.nbytes / 1024**2   # Convert bytes to MB\n",
    "\n",
    "# Check the memory usage of each array\n",
    "print(f'Memory usage:')\n",
    "print(f'int8_array     = {memory_MB(int8_array):.2f} MB')\n",
    "print(f'int16_array    = {memory_MB(int16_array):.2f} MB')\n",
    "print(f'int32_array    = {memory_MB(int32_array):.2f} MB')\n",
    "print(f'int64_array    = {memory_MB(int64_array):.2f} MB')\n",
    "print('')  # Empty line\n",
    "print(f'float32_array  = {memory_MB(float32_array):.2f} MB')\n",
    "print(f'float64_array  = {memory_MB(float64_array):.2f} MB')\n",
    "print(f'float128_array = {memory_MB(float128_array):.2f} MB')"
   ]
  },
  {
   "cell_type": "code",
   "execution_count": null,
   "metadata": {},
   "outputs": [
    {
     "name": "stdout",
     "output_type": "stream",
     "text": [
      "\n",
      "Execution time:\n",
      "int8_array    = 0.004 s\n",
      "int16_array   = 0.017 s\n",
      "int32_array   = 0.017 s\n",
      "int64_array   = 0.029 s\n",
      "\n",
      "float32_array = 0.017 s\n",
      "float64_array = 0.028 s\n",
      "float128_array= 0.084 s\n"
     ]
    }
   ],
   "source": [
    "def check_performance(x):\n",
    "    num_runs = 100\n",
    "    tic = time.time()\n",
    "    result = x.copy()\n",
    "    for i in range(num_runs):\n",
    "        result += 2 * x + 3\n",
    "    toc = time.time()\n",
    "    mean_time = (toc - tic) / num_runs\n",
    "    return mean_time\n",
    "\n",
    "print(f'\\nExecution time:')\n",
    "print(f'int8_array    = {check_performance(int8_array):.3f} s')\n",
    "print(f'int16_array   = {check_performance(int32_array):.3f} s')\n",
    "print(f'int32_array   = {check_performance(int32_array):.3f} s')\n",
    "print(f'int64_array   = {check_performance(int64_array):.3f} s')\n",
    "print('')  # Empty line\n",
    "print(f'float32_array = {check_performance(float32_array):.3f} s')\n",
    "print(f'float64_array = {check_performance(float64_array):.3f} s')\n",
    "print(f'float128_array= {check_performance(float128_array):.3f} s')"
   ]
  },
  {
   "cell_type": "code",
   "execution_count": 14,
   "metadata": {},
   "outputs": [
    {
     "data": {
      "text/html": [
       "<div>\n",
       "<style scoped>\n",
       "    .dataframe tbody tr th:only-of-type {\n",
       "        vertical-align: middle;\n",
       "    }\n",
       "\n",
       "    .dataframe tbody tr th {\n",
       "        vertical-align: top;\n",
       "    }\n",
       "\n",
       "    .dataframe thead th {\n",
       "        text-align: right;\n",
       "    }\n",
       "</style>\n",
       "<table border=\"1\" class=\"dataframe\">\n",
       "  <thead>\n",
       "    <tr style=\"text-align: right;\">\n",
       "      <th></th>\n",
       "      <th>Região</th>\n",
       "      <th>Total</th>\n",
       "      <th>Sem instrução</th>\n",
       "      <th>Ensino fundamental incompleto ou equivalente</th>\n",
       "      <th>Ensino fundamental completo ou equivalente</th>\n",
       "      <th>Ensino médio incompleto ou equivalente</th>\n",
       "      <th>Ensino médio completo ou equivalente</th>\n",
       "      <th>Ensino superior incompleto ou equivalente</th>\n",
       "      <th>Superior completo</th>\n",
       "      <th>Ano</th>\n",
       "    </tr>\n",
       "  </thead>\n",
       "  <tbody>\n",
       "    <tr>\n",
       "      <th>0</th>\n",
       "      <td>Brasil</td>\n",
       "      <td>2807</td>\n",
       "      <td>1118</td>\n",
       "      <td>1629</td>\n",
       "      <td>1960</td>\n",
       "      <td>1766</td>\n",
       "      <td>2495</td>\n",
       "      <td>3337</td>\n",
       "      <td>7076</td>\n",
       "      <td>2012</td>\n",
       "    </tr>\n",
       "    <tr>\n",
       "      <th>1</th>\n",
       "      <td>Norte</td>\n",
       "      <td>2276</td>\n",
       "      <td>1463</td>\n",
       "      <td>1459</td>\n",
       "      <td>1768</td>\n",
       "      <td>1492</td>\n",
       "      <td>2325</td>\n",
       "      <td>3196</td>\n",
       "      <td>5960</td>\n",
       "      <td>2012</td>\n",
       "    </tr>\n",
       "    <tr>\n",
       "      <th>2</th>\n",
       "      <td>Nordeste</td>\n",
       "      <td>1887</td>\n",
       "      <td>815</td>\n",
       "      <td>1066</td>\n",
       "      <td>1358</td>\n",
       "      <td>1285</td>\n",
       "      <td>1918</td>\n",
       "      <td>2640</td>\n",
       "      <td>6039</td>\n",
       "      <td>2012</td>\n",
       "    </tr>\n",
       "    <tr>\n",
       "      <th>3</th>\n",
       "      <td>Sudeste</td>\n",
       "      <td>3191</td>\n",
       "      <td>1404</td>\n",
       "      <td>1839</td>\n",
       "      <td>2070</td>\n",
       "      <td>1918</td>\n",
       "      <td>2625</td>\n",
       "      <td>3559</td>\n",
       "      <td>7406</td>\n",
       "      <td>2012</td>\n",
       "    </tr>\n",
       "    <tr>\n",
       "      <th>4</th>\n",
       "      <td>Sul</td>\n",
       "      <td>3088</td>\n",
       "      <td>1561</td>\n",
       "      <td>2056</td>\n",
       "      <td>2290</td>\n",
       "      <td>2079</td>\n",
       "      <td>2820</td>\n",
       "      <td>3571</td>\n",
       "      <td>6684</td>\n",
       "      <td>2012</td>\n",
       "    </tr>\n",
       "    <tr>\n",
       "      <th>...</th>\n",
       "      <td>...</td>\n",
       "      <td>...</td>\n",
       "      <td>...</td>\n",
       "      <td>...</td>\n",
       "      <td>...</td>\n",
       "      <td>...</td>\n",
       "      <td>...</td>\n",
       "      <td>...</td>\n",
       "      <td>...</td>\n",
       "      <td>...</td>\n",
       "    </tr>\n",
       "    <tr>\n",
       "      <th>391</th>\n",
       "      <td>Rio Grande do Sul</td>\n",
       "      <td>3222</td>\n",
       "      <td>1725</td>\n",
       "      <td>1989</td>\n",
       "      <td>2090</td>\n",
       "      <td>2184</td>\n",
       "      <td>2618</td>\n",
       "      <td>3183</td>\n",
       "      <td>5960</td>\n",
       "      <td>2023</td>\n",
       "    </tr>\n",
       "    <tr>\n",
       "      <th>392</th>\n",
       "      <td>Mato Grosso do Sul</td>\n",
       "      <td>3132</td>\n",
       "      <td>1487</td>\n",
       "      <td>2339</td>\n",
       "      <td>1993</td>\n",
       "      <td>1978</td>\n",
       "      <td>2542</td>\n",
       "      <td>3569</td>\n",
       "      <td>5287</td>\n",
       "      <td>2023</td>\n",
       "    </tr>\n",
       "    <tr>\n",
       "      <th>393</th>\n",
       "      <td>Mato Grosso</td>\n",
       "      <td>3245</td>\n",
       "      <td>2040</td>\n",
       "      <td>2618</td>\n",
       "      <td>2507</td>\n",
       "      <td>2441</td>\n",
       "      <td>2654</td>\n",
       "      <td>2626</td>\n",
       "      <td>5625</td>\n",
       "      <td>2023</td>\n",
       "    </tr>\n",
       "    <tr>\n",
       "      <th>394</th>\n",
       "      <td>Goiás</td>\n",
       "      <td>2970</td>\n",
       "      <td>1555</td>\n",
       "      <td>2016</td>\n",
       "      <td>1877</td>\n",
       "      <td>1956</td>\n",
       "      <td>2471</td>\n",
       "      <td>2589</td>\n",
       "      <td>5599</td>\n",
       "      <td>2023</td>\n",
       "    </tr>\n",
       "    <tr>\n",
       "      <th>395</th>\n",
       "      <td>Distrito Federal</td>\n",
       "      <td>4944</td>\n",
       "      <td>4139</td>\n",
       "      <td>1788</td>\n",
       "      <td>2098</td>\n",
       "      <td>1927</td>\n",
       "      <td>2642</td>\n",
       "      <td>2951</td>\n",
       "      <td>8377</td>\n",
       "      <td>2023</td>\n",
       "    </tr>\n",
       "  </tbody>\n",
       "</table>\n",
       "<p>396 rows × 10 columns</p>\n",
       "</div>"
      ],
      "text/plain": [
       "                 Região  Total  Sem instrução  \\\n",
       "0                Brasil   2807           1118   \n",
       "1                 Norte   2276           1463   \n",
       "2              Nordeste   1887            815   \n",
       "3               Sudeste   3191           1404   \n",
       "4                   Sul   3088           1561   \n",
       "..                  ...    ...            ...   \n",
       "391   Rio Grande do Sul   3222           1725   \n",
       "392  Mato Grosso do Sul   3132           1487   \n",
       "393         Mato Grosso   3245           2040   \n",
       "394               Goiás   2970           1555   \n",
       "395    Distrito Federal   4944           4139   \n",
       "\n",
       "     Ensino fundamental incompleto ou equivalente  \\\n",
       "0                                            1629   \n",
       "1                                            1459   \n",
       "2                                            1066   \n",
       "3                                            1839   \n",
       "4                                            2056   \n",
       "..                                            ...   \n",
       "391                                          1989   \n",
       "392                                          2339   \n",
       "393                                          2618   \n",
       "394                                          2016   \n",
       "395                                          1788   \n",
       "\n",
       "     Ensino fundamental completo ou equivalente  \\\n",
       "0                                          1960   \n",
       "1                                          1768   \n",
       "2                                          1358   \n",
       "3                                          2070   \n",
       "4                                          2290   \n",
       "..                                          ...   \n",
       "391                                        2090   \n",
       "392                                        1993   \n",
       "393                                        2507   \n",
       "394                                        1877   \n",
       "395                                        2098   \n",
       "\n",
       "     Ensino médio incompleto ou equivalente  \\\n",
       "0                                      1766   \n",
       "1                                      1492   \n",
       "2                                      1285   \n",
       "3                                      1918   \n",
       "4                                      2079   \n",
       "..                                      ...   \n",
       "391                                    2184   \n",
       "392                                    1978   \n",
       "393                                    2441   \n",
       "394                                    1956   \n",
       "395                                    1927   \n",
       "\n",
       "     Ensino médio completo ou equivalente  \\\n",
       "0                                    2495   \n",
       "1                                    2325   \n",
       "2                                    1918   \n",
       "3                                    2625   \n",
       "4                                    2820   \n",
       "..                                    ...   \n",
       "391                                  2618   \n",
       "392                                  2542   \n",
       "393                                  2654   \n",
       "394                                  2471   \n",
       "395                                  2642   \n",
       "\n",
       "     Ensino superior incompleto ou equivalente  Superior completo   Ano  \n",
       "0                                         3337               7076  2012  \n",
       "1                                         3196               5960  2012  \n",
       "2                                         2640               6039  2012  \n",
       "3                                         3559               7406  2012  \n",
       "4                                         3571               6684  2012  \n",
       "..                                         ...                ...   ...  \n",
       "391                                       3183               5960  2023  \n",
       "392                                       3569               5287  2023  \n",
       "393                                       2626               5625  2023  \n",
       "394                                       2589               5599  2023  \n",
       "395                                       2951               8377  2023  \n",
       "\n",
       "[396 rows x 10 columns]"
      ]
     },
     "execution_count": 14,
     "metadata": {},
     "output_type": "execute_result"
    }
   ],
   "source": [
    "import pandas as pd\n",
    "\n",
    "# Ler a tabela a partir da linha 6\n",
    "fn = '/home/michael/gitrepos/SCD/2024/minicurso/codes/data/tabela7443_escolarização_renda.xlsx'\n",
    "df = pd.read_excel(fn, skiprows=4)\n",
    "df"
   ]
  },
  {
   "cell_type": "code",
   "execution_count": 16,
   "metadata": {},
   "outputs": [
    {
     "data": {
      "text/html": [
       "<div>\n",
       "<style scoped>\n",
       "    .dataframe tbody tr th:only-of-type {\n",
       "        vertical-align: middle;\n",
       "    }\n",
       "\n",
       "    .dataframe tbody tr th {\n",
       "        vertical-align: top;\n",
       "    }\n",
       "\n",
       "    .dataframe thead th {\n",
       "        text-align: right;\n",
       "    }\n",
       "</style>\n",
       "<table border=\"1\" class=\"dataframe\">\n",
       "  <thead>\n",
       "    <tr style=\"text-align: right;\">\n",
       "      <th></th>\n",
       "      <th>Região</th>\n",
       "      <th>Total</th>\n",
       "      <th>Sem instrução</th>\n",
       "      <th>Ensino fundamental incompleto ou equivalente</th>\n",
       "      <th>Ensino fundamental completo ou equivalente</th>\n",
       "      <th>Ensino médio incompleto ou equivalente</th>\n",
       "      <th>Ensino médio completo ou equivalente</th>\n",
       "      <th>Ensino superior incompleto ou equivalente</th>\n",
       "      <th>Superior completo</th>\n",
       "      <th>Ano</th>\n",
       "    </tr>\n",
       "  </thead>\n",
       "  <tbody>\n",
       "    <tr>\n",
       "      <th>0</th>\n",
       "      <td>Brasil</td>\n",
       "      <td>2807</td>\n",
       "      <td>1118</td>\n",
       "      <td>1629</td>\n",
       "      <td>1960</td>\n",
       "      <td>1766</td>\n",
       "      <td>2495</td>\n",
       "      <td>3337</td>\n",
       "      <td>7076</td>\n",
       "      <td>2012</td>\n",
       "    </tr>\n",
       "    <tr>\n",
       "      <th>33</th>\n",
       "      <td>Brasil</td>\n",
       "      <td>2901</td>\n",
       "      <td>1164</td>\n",
       "      <td>1684</td>\n",
       "      <td>2006</td>\n",
       "      <td>1817</td>\n",
       "      <td>2554</td>\n",
       "      <td>3246</td>\n",
       "      <td>7208</td>\n",
       "      <td>2013</td>\n",
       "    </tr>\n",
       "    <tr>\n",
       "      <th>66</th>\n",
       "      <td>Brasil</td>\n",
       "      <td>2989</td>\n",
       "      <td>1190</td>\n",
       "      <td>1721</td>\n",
       "      <td>2077</td>\n",
       "      <td>1871</td>\n",
       "      <td>2524</td>\n",
       "      <td>3172</td>\n",
       "      <td>7312</td>\n",
       "      <td>2014</td>\n",
       "    </tr>\n",
       "    <tr>\n",
       "      <th>99</th>\n",
       "      <td>Brasil</td>\n",
       "      <td>2874</td>\n",
       "      <td>1128</td>\n",
       "      <td>1649</td>\n",
       "      <td>1979</td>\n",
       "      <td>1771</td>\n",
       "      <td>2410</td>\n",
       "      <td>2927</td>\n",
       "      <td>6833</td>\n",
       "      <td>2015</td>\n",
       "    </tr>\n",
       "    <tr>\n",
       "      <th>132</th>\n",
       "      <td>Brasil</td>\n",
       "      <td>2886</td>\n",
       "      <td>1133</td>\n",
       "      <td>1585</td>\n",
       "      <td>1926</td>\n",
       "      <td>1642</td>\n",
       "      <td>2324</td>\n",
       "      <td>2765</td>\n",
       "      <td>6838</td>\n",
       "      <td>2016</td>\n",
       "    </tr>\n",
       "    <tr>\n",
       "      <th>165</th>\n",
       "      <td>Brasil</td>\n",
       "      <td>2875</td>\n",
       "      <td>1130</td>\n",
       "      <td>1612</td>\n",
       "      <td>1895</td>\n",
       "      <td>1764</td>\n",
       "      <td>2286</td>\n",
       "      <td>2924</td>\n",
       "      <td>6641</td>\n",
       "      <td>2017</td>\n",
       "    </tr>\n",
       "    <tr>\n",
       "      <th>198</th>\n",
       "      <td>Brasil</td>\n",
       "      <td>2936</td>\n",
       "      <td>1124</td>\n",
       "      <td>1603</td>\n",
       "      <td>1888</td>\n",
       "      <td>1728</td>\n",
       "      <td>2311</td>\n",
       "      <td>2846</td>\n",
       "      <td>6577</td>\n",
       "      <td>2018</td>\n",
       "    </tr>\n",
       "    <tr>\n",
       "      <th>231</th>\n",
       "      <td>Brasil</td>\n",
       "      <td>2927</td>\n",
       "      <td>1181</td>\n",
       "      <td>1560</td>\n",
       "      <td>1868</td>\n",
       "      <td>1736</td>\n",
       "      <td>2268</td>\n",
       "      <td>2833</td>\n",
       "      <td>6514</td>\n",
       "      <td>2019</td>\n",
       "    </tr>\n",
       "    <tr>\n",
       "      <th>264</th>\n",
       "      <td>Brasil</td>\n",
       "      <td>3028</td>\n",
       "      <td>1129</td>\n",
       "      <td>1598</td>\n",
       "      <td>1896</td>\n",
       "      <td>1763</td>\n",
       "      <td>2237</td>\n",
       "      <td>2780</td>\n",
       "      <td>6377</td>\n",
       "      <td>2020</td>\n",
       "    </tr>\n",
       "    <tr>\n",
       "      <th>297</th>\n",
       "      <td>Brasil</td>\n",
       "      <td>2838</td>\n",
       "      <td>1188</td>\n",
       "      <td>1503</td>\n",
       "      <td>1749</td>\n",
       "      <td>1603</td>\n",
       "      <td>2087</td>\n",
       "      <td>2756</td>\n",
       "      <td>5890</td>\n",
       "      <td>2021</td>\n",
       "    </tr>\n",
       "    <tr>\n",
       "      <th>330</th>\n",
       "      <td>Brasil</td>\n",
       "      <td>2780</td>\n",
       "      <td>1302</td>\n",
       "      <td>1564</td>\n",
       "      <td>1833</td>\n",
       "      <td>1678</td>\n",
       "      <td>2110</td>\n",
       "      <td>2626</td>\n",
       "      <td>5612</td>\n",
       "      <td>2022</td>\n",
       "    </tr>\n",
       "    <tr>\n",
       "      <th>363</th>\n",
       "      <td>Brasil</td>\n",
       "      <td>2979</td>\n",
       "      <td>1389</td>\n",
       "      <td>1638</td>\n",
       "      <td>1866</td>\n",
       "      <td>1742</td>\n",
       "      <td>2253</td>\n",
       "      <td>2770</td>\n",
       "      <td>6048</td>\n",
       "      <td>2023</td>\n",
       "    </tr>\n",
       "  </tbody>\n",
       "</table>\n",
       "</div>"
      ],
      "text/plain": [
       "     Região  Total  Sem instrução  \\\n",
       "0    Brasil   2807           1118   \n",
       "33   Brasil   2901           1164   \n",
       "66   Brasil   2989           1190   \n",
       "99   Brasil   2874           1128   \n",
       "132  Brasil   2886           1133   \n",
       "165  Brasil   2875           1130   \n",
       "198  Brasil   2936           1124   \n",
       "231  Brasil   2927           1181   \n",
       "264  Brasil   3028           1129   \n",
       "297  Brasil   2838           1188   \n",
       "330  Brasil   2780           1302   \n",
       "363  Brasil   2979           1389   \n",
       "\n",
       "     Ensino fundamental incompleto ou equivalente  \\\n",
       "0                                            1629   \n",
       "33                                           1684   \n",
       "66                                           1721   \n",
       "99                                           1649   \n",
       "132                                          1585   \n",
       "165                                          1612   \n",
       "198                                          1603   \n",
       "231                                          1560   \n",
       "264                                          1598   \n",
       "297                                          1503   \n",
       "330                                          1564   \n",
       "363                                          1638   \n",
       "\n",
       "     Ensino fundamental completo ou equivalente  \\\n",
       "0                                          1960   \n",
       "33                                         2006   \n",
       "66                                         2077   \n",
       "99                                         1979   \n",
       "132                                        1926   \n",
       "165                                        1895   \n",
       "198                                        1888   \n",
       "231                                        1868   \n",
       "264                                        1896   \n",
       "297                                        1749   \n",
       "330                                        1833   \n",
       "363                                        1866   \n",
       "\n",
       "     Ensino médio incompleto ou equivalente  \\\n",
       "0                                      1766   \n",
       "33                                     1817   \n",
       "66                                     1871   \n",
       "99                                     1771   \n",
       "132                                    1642   \n",
       "165                                    1764   \n",
       "198                                    1728   \n",
       "231                                    1736   \n",
       "264                                    1763   \n",
       "297                                    1603   \n",
       "330                                    1678   \n",
       "363                                    1742   \n",
       "\n",
       "     Ensino médio completo ou equivalente  \\\n",
       "0                                    2495   \n",
       "33                                   2554   \n",
       "66                                   2524   \n",
       "99                                   2410   \n",
       "132                                  2324   \n",
       "165                                  2286   \n",
       "198                                  2311   \n",
       "231                                  2268   \n",
       "264                                  2237   \n",
       "297                                  2087   \n",
       "330                                  2110   \n",
       "363                                  2253   \n",
       "\n",
       "     Ensino superior incompleto ou equivalente  Superior completo   Ano  \n",
       "0                                         3337               7076  2012  \n",
       "33                                        3246               7208  2013  \n",
       "66                                        3172               7312  2014  \n",
       "99                                        2927               6833  2015  \n",
       "132                                       2765               6838  2016  \n",
       "165                                       2924               6641  2017  \n",
       "198                                       2846               6577  2018  \n",
       "231                                       2833               6514  2019  \n",
       "264                                       2780               6377  2020  \n",
       "297                                       2756               5890  2021  \n",
       "330                                       2626               5612  2022  \n",
       "363                                       2770               6048  2023  "
      ]
     },
     "execution_count": 16,
     "metadata": {},
     "output_type": "execute_result"
    }
   ],
   "source": [
    "df_BR = df[df['Região'] == 'Brasil']\n",
    "df_BR"
   ]
  },
  {
   "cell_type": "code",
   "execution_count": null,
   "metadata": {},
   "outputs": [
    {
     "data": {
      "application/vnd.plotly.v1+json": {
       "config": {
        "plotlyServerURL": "https://plot.ly"
       },
       "data": [
        {
         "hovertemplate": "Ano=%{x}<br>Total=%{y}<extra></extra>",
         "legendgroup": "",
         "line": {
          "color": "#636efa",
          "dash": "solid"
         },
         "marker": {
          "symbol": "circle"
         },
         "mode": "lines",
         "name": "",
         "orientation": "v",
         "showlegend": false,
         "type": "scatter",
         "x": [
          2012,
          2013,
          2014,
          2015,
          2016,
          2017,
          2018,
          2019,
          2020,
          2021,
          2022,
          2023
         ],
         "xaxis": "x",
         "y": [
          2807,
          2901,
          2989,
          2874,
          2886,
          2875,
          2936,
          2927,
          3028,
          2838,
          2780,
          2979
         ],
         "yaxis": "y"
        }
       ],
       "layout": {
        "legend": {
         "tracegroupgap": 0
        },
        "margin": {
         "t": 60
        },
        "template": {
         "data": {
          "bar": [
           {
            "error_x": {
             "color": "#2a3f5f"
            },
            "error_y": {
             "color": "#2a3f5f"
            },
            "marker": {
             "line": {
              "color": "#E5ECF6",
              "width": 0.5
             },
             "pattern": {
              "fillmode": "overlay",
              "size": 10,
              "solidity": 0.2
             }
            },
            "type": "bar"
           }
          ],
          "barpolar": [
           {
            "marker": {
             "line": {
              "color": "#E5ECF6",
              "width": 0.5
             },
             "pattern": {
              "fillmode": "overlay",
              "size": 10,
              "solidity": 0.2
             }
            },
            "type": "barpolar"
           }
          ],
          "carpet": [
           {
            "aaxis": {
             "endlinecolor": "#2a3f5f",
             "gridcolor": "white",
             "linecolor": "white",
             "minorgridcolor": "white",
             "startlinecolor": "#2a3f5f"
            },
            "baxis": {
             "endlinecolor": "#2a3f5f",
             "gridcolor": "white",
             "linecolor": "white",
             "minorgridcolor": "white",
             "startlinecolor": "#2a3f5f"
            },
            "type": "carpet"
           }
          ],
          "choropleth": [
           {
            "colorbar": {
             "outlinewidth": 0,
             "ticks": ""
            },
            "type": "choropleth"
           }
          ],
          "contour": [
           {
            "colorbar": {
             "outlinewidth": 0,
             "ticks": ""
            },
            "colorscale": [
             [
              0,
              "#0d0887"
             ],
             [
              0.1111111111111111,
              "#46039f"
             ],
             [
              0.2222222222222222,
              "#7201a8"
             ],
             [
              0.3333333333333333,
              "#9c179e"
             ],
             [
              0.4444444444444444,
              "#bd3786"
             ],
             [
              0.5555555555555556,
              "#d8576b"
             ],
             [
              0.6666666666666666,
              "#ed7953"
             ],
             [
              0.7777777777777778,
              "#fb9f3a"
             ],
             [
              0.8888888888888888,
              "#fdca26"
             ],
             [
              1,
              "#f0f921"
             ]
            ],
            "type": "contour"
           }
          ],
          "contourcarpet": [
           {
            "colorbar": {
             "outlinewidth": 0,
             "ticks": ""
            },
            "type": "contourcarpet"
           }
          ],
          "heatmap": [
           {
            "colorbar": {
             "outlinewidth": 0,
             "ticks": ""
            },
            "colorscale": [
             [
              0,
              "#0d0887"
             ],
             [
              0.1111111111111111,
              "#46039f"
             ],
             [
              0.2222222222222222,
              "#7201a8"
             ],
             [
              0.3333333333333333,
              "#9c179e"
             ],
             [
              0.4444444444444444,
              "#bd3786"
             ],
             [
              0.5555555555555556,
              "#d8576b"
             ],
             [
              0.6666666666666666,
              "#ed7953"
             ],
             [
              0.7777777777777778,
              "#fb9f3a"
             ],
             [
              0.8888888888888888,
              "#fdca26"
             ],
             [
              1,
              "#f0f921"
             ]
            ],
            "type": "heatmap"
           }
          ],
          "heatmapgl": [
           {
            "colorbar": {
             "outlinewidth": 0,
             "ticks": ""
            },
            "colorscale": [
             [
              0,
              "#0d0887"
             ],
             [
              0.1111111111111111,
              "#46039f"
             ],
             [
              0.2222222222222222,
              "#7201a8"
             ],
             [
              0.3333333333333333,
              "#9c179e"
             ],
             [
              0.4444444444444444,
              "#bd3786"
             ],
             [
              0.5555555555555556,
              "#d8576b"
             ],
             [
              0.6666666666666666,
              "#ed7953"
             ],
             [
              0.7777777777777778,
              "#fb9f3a"
             ],
             [
              0.8888888888888888,
              "#fdca26"
             ],
             [
              1,
              "#f0f921"
             ]
            ],
            "type": "heatmapgl"
           }
          ],
          "histogram": [
           {
            "marker": {
             "pattern": {
              "fillmode": "overlay",
              "size": 10,
              "solidity": 0.2
             }
            },
            "type": "histogram"
           }
          ],
          "histogram2d": [
           {
            "colorbar": {
             "outlinewidth": 0,
             "ticks": ""
            },
            "colorscale": [
             [
              0,
              "#0d0887"
             ],
             [
              0.1111111111111111,
              "#46039f"
             ],
             [
              0.2222222222222222,
              "#7201a8"
             ],
             [
              0.3333333333333333,
              "#9c179e"
             ],
             [
              0.4444444444444444,
              "#bd3786"
             ],
             [
              0.5555555555555556,
              "#d8576b"
             ],
             [
              0.6666666666666666,
              "#ed7953"
             ],
             [
              0.7777777777777778,
              "#fb9f3a"
             ],
             [
              0.8888888888888888,
              "#fdca26"
             ],
             [
              1,
              "#f0f921"
             ]
            ],
            "type": "histogram2d"
           }
          ],
          "histogram2dcontour": [
           {
            "colorbar": {
             "outlinewidth": 0,
             "ticks": ""
            },
            "colorscale": [
             [
              0,
              "#0d0887"
             ],
             [
              0.1111111111111111,
              "#46039f"
             ],
             [
              0.2222222222222222,
              "#7201a8"
             ],
             [
              0.3333333333333333,
              "#9c179e"
             ],
             [
              0.4444444444444444,
              "#bd3786"
             ],
             [
              0.5555555555555556,
              "#d8576b"
             ],
             [
              0.6666666666666666,
              "#ed7953"
             ],
             [
              0.7777777777777778,
              "#fb9f3a"
             ],
             [
              0.8888888888888888,
              "#fdca26"
             ],
             [
              1,
              "#f0f921"
             ]
            ],
            "type": "histogram2dcontour"
           }
          ],
          "mesh3d": [
           {
            "colorbar": {
             "outlinewidth": 0,
             "ticks": ""
            },
            "type": "mesh3d"
           }
          ],
          "parcoords": [
           {
            "line": {
             "colorbar": {
              "outlinewidth": 0,
              "ticks": ""
             }
            },
            "type": "parcoords"
           }
          ],
          "pie": [
           {
            "automargin": true,
            "type": "pie"
           }
          ],
          "scatter": [
           {
            "fillpattern": {
             "fillmode": "overlay",
             "size": 10,
             "solidity": 0.2
            },
            "type": "scatter"
           }
          ],
          "scatter3d": [
           {
            "line": {
             "colorbar": {
              "outlinewidth": 0,
              "ticks": ""
             }
            },
            "marker": {
             "colorbar": {
              "outlinewidth": 0,
              "ticks": ""
             }
            },
            "type": "scatter3d"
           }
          ],
          "scattercarpet": [
           {
            "marker": {
             "colorbar": {
              "outlinewidth": 0,
              "ticks": ""
             }
            },
            "type": "scattercarpet"
           }
          ],
          "scattergeo": [
           {
            "marker": {
             "colorbar": {
              "outlinewidth": 0,
              "ticks": ""
             }
            },
            "type": "scattergeo"
           }
          ],
          "scattergl": [
           {
            "marker": {
             "colorbar": {
              "outlinewidth": 0,
              "ticks": ""
             }
            },
            "type": "scattergl"
           }
          ],
          "scattermapbox": [
           {
            "marker": {
             "colorbar": {
              "outlinewidth": 0,
              "ticks": ""
             }
            },
            "type": "scattermapbox"
           }
          ],
          "scatterpolar": [
           {
            "marker": {
             "colorbar": {
              "outlinewidth": 0,
              "ticks": ""
             }
            },
            "type": "scatterpolar"
           }
          ],
          "scatterpolargl": [
           {
            "marker": {
             "colorbar": {
              "outlinewidth": 0,
              "ticks": ""
             }
            },
            "type": "scatterpolargl"
           }
          ],
          "scatterternary": [
           {
            "marker": {
             "colorbar": {
              "outlinewidth": 0,
              "ticks": ""
             }
            },
            "type": "scatterternary"
           }
          ],
          "surface": [
           {
            "colorbar": {
             "outlinewidth": 0,
             "ticks": ""
            },
            "colorscale": [
             [
              0,
              "#0d0887"
             ],
             [
              0.1111111111111111,
              "#46039f"
             ],
             [
              0.2222222222222222,
              "#7201a8"
             ],
             [
              0.3333333333333333,
              "#9c179e"
             ],
             [
              0.4444444444444444,
              "#bd3786"
             ],
             [
              0.5555555555555556,
              "#d8576b"
             ],
             [
              0.6666666666666666,
              "#ed7953"
             ],
             [
              0.7777777777777778,
              "#fb9f3a"
             ],
             [
              0.8888888888888888,
              "#fdca26"
             ],
             [
              1,
              "#f0f921"
             ]
            ],
            "type": "surface"
           }
          ],
          "table": [
           {
            "cells": {
             "fill": {
              "color": "#EBF0F8"
             },
             "line": {
              "color": "white"
             }
            },
            "header": {
             "fill": {
              "color": "#C8D4E3"
             },
             "line": {
              "color": "white"
             }
            },
            "type": "table"
           }
          ]
         },
         "layout": {
          "annotationdefaults": {
           "arrowcolor": "#2a3f5f",
           "arrowhead": 0,
           "arrowwidth": 1
          },
          "autotypenumbers": "strict",
          "coloraxis": {
           "colorbar": {
            "outlinewidth": 0,
            "ticks": ""
           }
          },
          "colorscale": {
           "diverging": [
            [
             0,
             "#8e0152"
            ],
            [
             0.1,
             "#c51b7d"
            ],
            [
             0.2,
             "#de77ae"
            ],
            [
             0.3,
             "#f1b6da"
            ],
            [
             0.4,
             "#fde0ef"
            ],
            [
             0.5,
             "#f7f7f7"
            ],
            [
             0.6,
             "#e6f5d0"
            ],
            [
             0.7,
             "#b8e186"
            ],
            [
             0.8,
             "#7fbc41"
            ],
            [
             0.9,
             "#4d9221"
            ],
            [
             1,
             "#276419"
            ]
           ],
           "sequential": [
            [
             0,
             "#0d0887"
            ],
            [
             0.1111111111111111,
             "#46039f"
            ],
            [
             0.2222222222222222,
             "#7201a8"
            ],
            [
             0.3333333333333333,
             "#9c179e"
            ],
            [
             0.4444444444444444,
             "#bd3786"
            ],
            [
             0.5555555555555556,
             "#d8576b"
            ],
            [
             0.6666666666666666,
             "#ed7953"
            ],
            [
             0.7777777777777778,
             "#fb9f3a"
            ],
            [
             0.8888888888888888,
             "#fdca26"
            ],
            [
             1,
             "#f0f921"
            ]
           ],
           "sequentialminus": [
            [
             0,
             "#0d0887"
            ],
            [
             0.1111111111111111,
             "#46039f"
            ],
            [
             0.2222222222222222,
             "#7201a8"
            ],
            [
             0.3333333333333333,
             "#9c179e"
            ],
            [
             0.4444444444444444,
             "#bd3786"
            ],
            [
             0.5555555555555556,
             "#d8576b"
            ],
            [
             0.6666666666666666,
             "#ed7953"
            ],
            [
             0.7777777777777778,
             "#fb9f3a"
            ],
            [
             0.8888888888888888,
             "#fdca26"
            ],
            [
             1,
             "#f0f921"
            ]
           ]
          },
          "colorway": [
           "#636efa",
           "#EF553B",
           "#00cc96",
           "#ab63fa",
           "#FFA15A",
           "#19d3f3",
           "#FF6692",
           "#B6E880",
           "#FF97FF",
           "#FECB52"
          ],
          "font": {
           "color": "#2a3f5f"
          },
          "geo": {
           "bgcolor": "white",
           "lakecolor": "white",
           "landcolor": "#E5ECF6",
           "showlakes": true,
           "showland": true,
           "subunitcolor": "white"
          },
          "hoverlabel": {
           "align": "left"
          },
          "hovermode": "closest",
          "mapbox": {
           "style": "light"
          },
          "paper_bgcolor": "white",
          "plot_bgcolor": "#E5ECF6",
          "polar": {
           "angularaxis": {
            "gridcolor": "white",
            "linecolor": "white",
            "ticks": ""
           },
           "bgcolor": "#E5ECF6",
           "radialaxis": {
            "gridcolor": "white",
            "linecolor": "white",
            "ticks": ""
           }
          },
          "scene": {
           "xaxis": {
            "backgroundcolor": "#E5ECF6",
            "gridcolor": "white",
            "gridwidth": 2,
            "linecolor": "white",
            "showbackground": true,
            "ticks": "",
            "zerolinecolor": "white"
           },
           "yaxis": {
            "backgroundcolor": "#E5ECF6",
            "gridcolor": "white",
            "gridwidth": 2,
            "linecolor": "white",
            "showbackground": true,
            "ticks": "",
            "zerolinecolor": "white"
           },
           "zaxis": {
            "backgroundcolor": "#E5ECF6",
            "gridcolor": "white",
            "gridwidth": 2,
            "linecolor": "white",
            "showbackground": true,
            "ticks": "",
            "zerolinecolor": "white"
           }
          },
          "shapedefaults": {
           "line": {
            "color": "#2a3f5f"
           }
          },
          "ternary": {
           "aaxis": {
            "gridcolor": "white",
            "linecolor": "white",
            "ticks": ""
           },
           "baxis": {
            "gridcolor": "white",
            "linecolor": "white",
            "ticks": ""
           },
           "bgcolor": "#E5ECF6",
           "caxis": {
            "gridcolor": "white",
            "linecolor": "white",
            "ticks": ""
           }
          },
          "title": {
           "x": 0.05
          },
          "xaxis": {
           "automargin": true,
           "gridcolor": "white",
           "linecolor": "white",
           "ticks": "",
           "title": {
            "standoff": 15
           },
           "zerolinecolor": "white",
           "zerolinewidth": 2
          },
          "yaxis": {
           "automargin": true,
           "gridcolor": "white",
           "linecolor": "white",
           "ticks": "",
           "title": {
            "standoff": 15
           },
           "zerolinecolor": "white",
           "zerolinewidth": 2
          }
         }
        },
        "title": {
         "text": "Total de Pessoas Entrevistas por Ano"
        },
        "xaxis": {
         "anchor": "y",
         "domain": [
          0,
          1
         ],
         "title": {
          "text": "Ano"
         }
        },
        "yaxis": {
         "anchor": "x",
         "domain": [
          0,
          1
         ],
         "title": {
          "text": "Total"
         }
        }
       }
      }
     },
     "metadata": {},
     "output_type": "display_data"
    }
   ],
   "source": [
    "import plotly.express as px\n",
    "\n",
    "# Gráfico de linha\n",
    "fig = px.line(df_BR, x='Ano', y='Total')\n",
    "fig.update_layout(\n",
    "\txaxis_title='Ano',\n",
    "\tyaxis_title='Total',\n",
    "    title='Total de Pessoas Entrevistas por Ano',\n",
    ")\n",
    "fig.show()\n"
   ]
  },
  {
   "cell_type": "code",
   "execution_count": null,
   "metadata": {},
   "outputs": [
    {
     "data": {
      "application/vnd.plotly.v1+json": {
       "config": {
        "plotlyServerURL": "https://plot.ly"
       },
       "data": [
        {
         "alignmentgroup": "True",
         "hovertemplate": "Região=%{x}<br>Total=%{y}<extra></extra>",
         "legendgroup": "",
         "marker": {
          "color": "#636efa"
         },
         "name": "",
         "notched": false,
         "offsetgroup": "",
         "orientation": "v",
         "showlegend": false,
         "type": "box",
         "x": [
          "Brasil",
          "Norte",
          "Nordeste",
          "Sudeste",
          "Sul",
          "Centro-Oeste",
          "Rondônia",
          "Acre",
          "Amazonas",
          "Roraima",
          "Pará",
          "Amapá",
          "Tocantins",
          "Maranhão",
          "Piauí",
          "Ceará",
          "Rio Grande do Norte",
          "Paraíba",
          "Pernambuco",
          "Alagoas",
          "Sergipe",
          "Bahia",
          "Minas Gerais",
          "Espírito Santo",
          "Rio de Janeiro",
          "São Paulo",
          "Paraná",
          "Santa Catarina",
          "Rio Grande do Sul",
          "Mato Grosso do Sul",
          "Mato Grosso",
          "Goiás",
          "Distrito Federal",
          "Brasil",
          "Norte",
          "Nordeste",
          "Sudeste",
          "Sul",
          "Centro-Oeste",
          "Rondônia",
          "Acre",
          "Amazonas",
          "Roraima",
          "Pará",
          "Amapá",
          "Tocantins",
          "Maranhão",
          "Piauí",
          "Ceará",
          "Rio Grande do Norte",
          "Paraíba",
          "Pernambuco",
          "Alagoas",
          "Sergipe",
          "Bahia",
          "Minas Gerais",
          "Espírito Santo",
          "Rio de Janeiro",
          "São Paulo",
          "Paraná",
          "Santa Catarina",
          "Rio Grande do Sul",
          "Mato Grosso do Sul",
          "Mato Grosso",
          "Goiás",
          "Distrito Federal",
          "Brasil",
          "Norte",
          "Nordeste",
          "Sudeste",
          "Sul",
          "Centro-Oeste",
          "Rondônia",
          "Acre",
          "Amazonas",
          "Roraima",
          "Pará",
          "Amapá",
          "Tocantins",
          "Maranhão",
          "Piauí",
          "Ceará",
          "Rio Grande do Norte",
          "Paraíba",
          "Pernambuco",
          "Alagoas",
          "Sergipe",
          "Bahia",
          "Minas Gerais",
          "Espírito Santo",
          "Rio de Janeiro",
          "São Paulo",
          "Paraná",
          "Santa Catarina",
          "Rio Grande do Sul",
          "Mato Grosso do Sul",
          "Mato Grosso",
          "Goiás",
          "Distrito Federal",
          "Brasil",
          "Norte",
          "Nordeste",
          "Sudeste",
          "Sul",
          "Centro-Oeste",
          "Rondônia",
          "Acre",
          "Amazonas",
          "Roraima",
          "Pará",
          "Amapá",
          "Tocantins",
          "Maranhão",
          "Piauí",
          "Ceará",
          "Rio Grande do Norte",
          "Paraíba",
          "Pernambuco",
          "Alagoas",
          "Sergipe",
          "Bahia",
          "Minas Gerais",
          "Espírito Santo",
          "Rio de Janeiro",
          "São Paulo",
          "Paraná",
          "Santa Catarina",
          "Rio Grande do Sul",
          "Mato Grosso do Sul",
          "Mato Grosso",
          "Goiás",
          "Distrito Federal",
          "Brasil",
          "Norte",
          "Nordeste",
          "Sudeste",
          "Sul",
          "Centro-Oeste",
          "Rondônia",
          "Acre",
          "Amazonas",
          "Roraima",
          "Pará",
          "Amapá",
          "Tocantins",
          "Maranhão",
          "Piauí",
          "Ceará",
          "Rio Grande do Norte",
          "Paraíba",
          "Pernambuco",
          "Alagoas",
          "Sergipe",
          "Bahia",
          "Minas Gerais",
          "Espírito Santo",
          "Rio de Janeiro",
          "São Paulo",
          "Paraná",
          "Santa Catarina",
          "Rio Grande do Sul",
          "Mato Grosso do Sul",
          "Mato Grosso",
          "Goiás",
          "Distrito Federal",
          "Brasil",
          "Norte",
          "Nordeste",
          "Sudeste",
          "Sul",
          "Centro-Oeste",
          "Rondônia",
          "Acre",
          "Amazonas",
          "Roraima",
          "Pará",
          "Amapá",
          "Tocantins",
          "Maranhão",
          "Piauí",
          "Ceará",
          "Rio Grande do Norte",
          "Paraíba",
          "Pernambuco",
          "Alagoas",
          "Sergipe",
          "Bahia",
          "Minas Gerais",
          "Espírito Santo",
          "Rio de Janeiro",
          "São Paulo",
          "Paraná",
          "Santa Catarina",
          "Rio Grande do Sul",
          "Mato Grosso do Sul",
          "Mato Grosso",
          "Goiás",
          "Distrito Federal",
          "Brasil",
          "Norte",
          "Nordeste",
          "Sudeste",
          "Sul",
          "Centro-Oeste",
          "Rondônia",
          "Acre",
          "Amazonas",
          "Roraima",
          "Pará",
          "Amapá",
          "Tocantins",
          "Maranhão",
          "Piauí",
          "Ceará",
          "Rio Grande do Norte",
          "Paraíba",
          "Pernambuco",
          "Alagoas",
          "Sergipe",
          "Bahia",
          "Minas Gerais",
          "Espírito Santo",
          "Rio de Janeiro",
          "São Paulo",
          "Paraná",
          "Santa Catarina",
          "Rio Grande do Sul",
          "Mato Grosso do Sul",
          "Mato Grosso",
          "Goiás",
          "Distrito Federal",
          "Brasil",
          "Norte",
          "Nordeste",
          "Sudeste",
          "Sul",
          "Centro-Oeste",
          "Rondônia",
          "Acre",
          "Amazonas",
          "Roraima",
          "Pará",
          "Amapá",
          "Tocantins",
          "Maranhão",
          "Piauí",
          "Ceará",
          "Rio Grande do Norte",
          "Paraíba",
          "Pernambuco",
          "Alagoas",
          "Sergipe",
          "Bahia",
          "Minas Gerais",
          "Espírito Santo",
          "Rio de Janeiro",
          "São Paulo",
          "Paraná",
          "Santa Catarina",
          "Rio Grande do Sul",
          "Mato Grosso do Sul",
          "Mato Grosso",
          "Goiás",
          "Distrito Federal",
          "Brasil",
          "Norte",
          "Nordeste",
          "Sudeste",
          "Sul",
          "Centro-Oeste",
          "Rondônia",
          "Acre",
          "Amazonas",
          "Roraima",
          "Pará",
          "Amapá",
          "Tocantins",
          "Maranhão",
          "Piauí",
          "Ceará",
          "Rio Grande do Norte",
          "Paraíba",
          "Pernambuco",
          "Alagoas",
          "Sergipe",
          "Bahia",
          "Minas Gerais",
          "Espírito Santo",
          "Rio de Janeiro",
          "São Paulo",
          "Paraná",
          "Santa Catarina",
          "Rio Grande do Sul",
          "Mato Grosso do Sul",
          "Mato Grosso",
          "Goiás",
          "Distrito Federal",
          "Brasil",
          "Norte",
          "Nordeste",
          "Sudeste",
          "Sul",
          "Centro-Oeste",
          "Rondônia",
          "Acre",
          "Amazonas",
          "Roraima",
          "Pará",
          "Amapá",
          "Tocantins",
          "Maranhão",
          "Piauí",
          "Ceará",
          "Rio Grande do Norte",
          "Paraíba",
          "Pernambuco",
          "Alagoas",
          "Sergipe",
          "Bahia",
          "Minas Gerais",
          "Espírito Santo",
          "Rio de Janeiro",
          "São Paulo",
          "Paraná",
          "Santa Catarina",
          "Rio Grande do Sul",
          "Mato Grosso do Sul",
          "Mato Grosso",
          "Goiás",
          "Distrito Federal",
          "Brasil",
          "Norte",
          "Nordeste",
          "Sudeste",
          "Sul",
          "Centro-Oeste",
          "Rondônia",
          "Acre",
          "Amazonas",
          "Roraima",
          "Pará",
          "Amapá",
          "Tocantins",
          "Maranhão",
          "Piauí",
          "Ceará",
          "Rio Grande do Norte",
          "Paraíba",
          "Pernambuco",
          "Alagoas",
          "Sergipe",
          "Bahia",
          "Minas Gerais",
          "Espírito Santo",
          "Rio de Janeiro",
          "São Paulo",
          "Paraná",
          "Santa Catarina",
          "Rio Grande do Sul",
          "Mato Grosso do Sul",
          "Mato Grosso",
          "Goiás",
          "Distrito Federal",
          "Brasil",
          "Norte",
          "Nordeste",
          "Sudeste",
          "Sul",
          "Centro-Oeste",
          "Rondônia",
          "Acre",
          "Amazonas",
          "Roraima",
          "Pará",
          "Amapá",
          "Tocantins",
          "Maranhão",
          "Piauí",
          "Ceará",
          "Rio Grande do Norte",
          "Paraíba",
          "Pernambuco",
          "Alagoas",
          "Sergipe",
          "Bahia",
          "Minas Gerais",
          "Espírito Santo",
          "Rio de Janeiro",
          "São Paulo",
          "Paraná",
          "Santa Catarina",
          "Rio Grande do Sul",
          "Mato Grosso do Sul",
          "Mato Grosso",
          "Goiás",
          "Distrito Federal"
         ],
         "x0": " ",
         "xaxis": "x",
         "y": [
          2807,
          2276,
          1887,
          3191,
          3088,
          3249,
          2362,
          2550,
          2581,
          3040,
          2046,
          2494,
          2241,
          1497,
          1580,
          1907,
          1928,
          1743,
          2267,
          1778,
          2117,
          1891,
          2463,
          2577,
          3051,
          3620,
          3079,
          3097,
          3093,
          2835,
          2874,
          2731,
          5217,
          2901,
          2252,
          1976,
          3306,
          3194,
          3299,
          2374,
          2395,
          2552,
          3033,
          1994,
          2693,
          2241,
          1569,
          1874,
          1941,
          2027,
          1766,
          2441,
          1820,
          2229,
          1944,
          2533,
          2772,
          3138,
          3757,
          3251,
          3192,
          3137,
          2884,
          2883,
          2778,
          5296,
          2989,
          2284,
          2039,
          3439,
          3277,
          3367,
          2368,
          2462,
          2512,
          2780,
          2042,
          2751,
          2442,
          1507,
          1778,
          1907,
          2119,
          1992,
          2589,
          1963,
          2265,
          2032,
          2633,
          2880,
          3231,
          3918,
          3330,
          3197,
          3273,
          3007,
          3028,
          2873,
          5249,
          2874,
          2223,
          1988,
          3303,
          3133,
          3227,
          2436,
          2540,
          2452,
          2893,
          1922,
          2770,
          2433,
          1536,
          1838,
          1963,
          2199,
          2076,
          2344,
          1883,
          2152,
          1932,
          2557,
          2832,
          3147,
          3741,
          3064,
          3143,
          3195,
          2712,
          2765,
          2726,
          5347,
          2886,
          2085,
          1963,
          3366,
          3109,
          3152,
          2249,
          2365,
          2173,
          2869,
          1858,
          2709,
          2201,
          1613,
          1814,
          1913,
          2241,
          1947,
          2302,
          1865,
          2280,
          1878,
          2456,
          2744,
          3271,
          3847,
          3111,
          3058,
          3139,
          2923,
          2796,
          2620,
          4955,
          2875,
          2147,
          2018,
          3261,
          3158,
          3239,
          2351,
          2256,
          2450,
          2677,
          1850,
          2817,
          2253,
          1650,
          1755,
          2011,
          2049,
          2164,
          2138,
          1809,
          2074,
          2136,
          2508,
          2761,
          3085,
          3699,
          3175,
          3153,
          3144,
          2879,
          2847,
          2774,
          5065,
          2936,
          2264,
          1983,
          3377,
          3185,
          3254,
          2665,
          2386,
          2045,
          3032,
          2137,
          2531,
          2507,
          1686,
          1897,
          1944,
          2235,
          2072,
          2085,
          2015,
          2245,
          1951,
          2531,
          2758,
          3400,
          3793,
          3226,
          3146,
          3169,
          3031,
          3012,
          2722,
          4963,
          2927,
          2117,
          2024,
          3356,
          3238,
          3169,
          2503,
          2407,
          2165,
          2743,
          1873,
          2372,
          2342,
          1673,
          1764,
          2091,
          2247,
          2076,
          2195,
          1902,
          2044,
          2021,
          2511,
          2880,
          3482,
          3727,
          3271,
          3230,
          3211,
          3011,
          2846,
          2597,
          5031,
          3028,
          2211,
          2178,
          3451,
          3247,
          3271,
          2432,
          2427,
          2263,
          2610,
          2038,
          2434,
          2392,
          1732,
          1744,
          2304,
          2412,
          2113,
          2235,
          2048,
          2263,
          2307,
          2528,
          2834,
          3606,
          3862,
          3250,
          3186,
          3284,
          3070,
          3029,
          2651,
          5180,
          2838,
          2104,
          1960,
          3261,
          3065,
          3108,
          2298,
          2256,
          2087,
          2636,
          1946,
          2251,
          2396,
          1690,
          1705,
          2067,
          2486,
          2090,
          2060,
          1861,
          2071,
          1835,
          2463,
          2555,
          3453,
          3609,
          3043,
          3091,
          3069,
          2910,
          2835,
          2575,
          4803,
          2780,
          2173,
          1889,
          3147,
          3083,
          3162,
          2443,
          2318,
          2081,
          2659,
          2000,
          2471,
          2545,
          1713,
          2022,
          1869,
          2311,
          2198,
          1888,
          1856,
          2121,
          1740,
          2433,
          2773,
          3341,
          3425,
          3029,
          3155,
          3090,
          3101,
          2974,
          2636,
          4631,
          2979,
          2416,
          1991,
          3389,
          3225,
          3418,
          2695,
          2358,
          2367,
          2791,
          2265,
          2828,
          2648,
          1877,
          2304,
          1926,
          2338,
          2392,
          1952,
          1977,
          1977,
          1865,
          2810,
          3004,
          3632,
          3592,
          3166,
          3316,
          3222,
          3132,
          3245,
          2970,
          4944
         ],
         "y0": " ",
         "yaxis": "y"
        }
       ],
       "layout": {
        "boxmode": "group",
        "legend": {
         "tracegroupgap": 0
        },
        "margin": {
         "t": 60
        },
        "template": {
         "data": {
          "bar": [
           {
            "error_x": {
             "color": "#2a3f5f"
            },
            "error_y": {
             "color": "#2a3f5f"
            },
            "marker": {
             "line": {
              "color": "#E5ECF6",
              "width": 0.5
             },
             "pattern": {
              "fillmode": "overlay",
              "size": 10,
              "solidity": 0.2
             }
            },
            "type": "bar"
           }
          ],
          "barpolar": [
           {
            "marker": {
             "line": {
              "color": "#E5ECF6",
              "width": 0.5
             },
             "pattern": {
              "fillmode": "overlay",
              "size": 10,
              "solidity": 0.2
             }
            },
            "type": "barpolar"
           }
          ],
          "carpet": [
           {
            "aaxis": {
             "endlinecolor": "#2a3f5f",
             "gridcolor": "white",
             "linecolor": "white",
             "minorgridcolor": "white",
             "startlinecolor": "#2a3f5f"
            },
            "baxis": {
             "endlinecolor": "#2a3f5f",
             "gridcolor": "white",
             "linecolor": "white",
             "minorgridcolor": "white",
             "startlinecolor": "#2a3f5f"
            },
            "type": "carpet"
           }
          ],
          "choropleth": [
           {
            "colorbar": {
             "outlinewidth": 0,
             "ticks": ""
            },
            "type": "choropleth"
           }
          ],
          "contour": [
           {
            "colorbar": {
             "outlinewidth": 0,
             "ticks": ""
            },
            "colorscale": [
             [
              0,
              "#0d0887"
             ],
             [
              0.1111111111111111,
              "#46039f"
             ],
             [
              0.2222222222222222,
              "#7201a8"
             ],
             [
              0.3333333333333333,
              "#9c179e"
             ],
             [
              0.4444444444444444,
              "#bd3786"
             ],
             [
              0.5555555555555556,
              "#d8576b"
             ],
             [
              0.6666666666666666,
              "#ed7953"
             ],
             [
              0.7777777777777778,
              "#fb9f3a"
             ],
             [
              0.8888888888888888,
              "#fdca26"
             ],
             [
              1,
              "#f0f921"
             ]
            ],
            "type": "contour"
           }
          ],
          "contourcarpet": [
           {
            "colorbar": {
             "outlinewidth": 0,
             "ticks": ""
            },
            "type": "contourcarpet"
           }
          ],
          "heatmap": [
           {
            "colorbar": {
             "outlinewidth": 0,
             "ticks": ""
            },
            "colorscale": [
             [
              0,
              "#0d0887"
             ],
             [
              0.1111111111111111,
              "#46039f"
             ],
             [
              0.2222222222222222,
              "#7201a8"
             ],
             [
              0.3333333333333333,
              "#9c179e"
             ],
             [
              0.4444444444444444,
              "#bd3786"
             ],
             [
              0.5555555555555556,
              "#d8576b"
             ],
             [
              0.6666666666666666,
              "#ed7953"
             ],
             [
              0.7777777777777778,
              "#fb9f3a"
             ],
             [
              0.8888888888888888,
              "#fdca26"
             ],
             [
              1,
              "#f0f921"
             ]
            ],
            "type": "heatmap"
           }
          ],
          "heatmapgl": [
           {
            "colorbar": {
             "outlinewidth": 0,
             "ticks": ""
            },
            "colorscale": [
             [
              0,
              "#0d0887"
             ],
             [
              0.1111111111111111,
              "#46039f"
             ],
             [
              0.2222222222222222,
              "#7201a8"
             ],
             [
              0.3333333333333333,
              "#9c179e"
             ],
             [
              0.4444444444444444,
              "#bd3786"
             ],
             [
              0.5555555555555556,
              "#d8576b"
             ],
             [
              0.6666666666666666,
              "#ed7953"
             ],
             [
              0.7777777777777778,
              "#fb9f3a"
             ],
             [
              0.8888888888888888,
              "#fdca26"
             ],
             [
              1,
              "#f0f921"
             ]
            ],
            "type": "heatmapgl"
           }
          ],
          "histogram": [
           {
            "marker": {
             "pattern": {
              "fillmode": "overlay",
              "size": 10,
              "solidity": 0.2
             }
            },
            "type": "histogram"
           }
          ],
          "histogram2d": [
           {
            "colorbar": {
             "outlinewidth": 0,
             "ticks": ""
            },
            "colorscale": [
             [
              0,
              "#0d0887"
             ],
             [
              0.1111111111111111,
              "#46039f"
             ],
             [
              0.2222222222222222,
              "#7201a8"
             ],
             [
              0.3333333333333333,
              "#9c179e"
             ],
             [
              0.4444444444444444,
              "#bd3786"
             ],
             [
              0.5555555555555556,
              "#d8576b"
             ],
             [
              0.6666666666666666,
              "#ed7953"
             ],
             [
              0.7777777777777778,
              "#fb9f3a"
             ],
             [
              0.8888888888888888,
              "#fdca26"
             ],
             [
              1,
              "#f0f921"
             ]
            ],
            "type": "histogram2d"
           }
          ],
          "histogram2dcontour": [
           {
            "colorbar": {
             "outlinewidth": 0,
             "ticks": ""
            },
            "colorscale": [
             [
              0,
              "#0d0887"
             ],
             [
              0.1111111111111111,
              "#46039f"
             ],
             [
              0.2222222222222222,
              "#7201a8"
             ],
             [
              0.3333333333333333,
              "#9c179e"
             ],
             [
              0.4444444444444444,
              "#bd3786"
             ],
             [
              0.5555555555555556,
              "#d8576b"
             ],
             [
              0.6666666666666666,
              "#ed7953"
             ],
             [
              0.7777777777777778,
              "#fb9f3a"
             ],
             [
              0.8888888888888888,
              "#fdca26"
             ],
             [
              1,
              "#f0f921"
             ]
            ],
            "type": "histogram2dcontour"
           }
          ],
          "mesh3d": [
           {
            "colorbar": {
             "outlinewidth": 0,
             "ticks": ""
            },
            "type": "mesh3d"
           }
          ],
          "parcoords": [
           {
            "line": {
             "colorbar": {
              "outlinewidth": 0,
              "ticks": ""
             }
            },
            "type": "parcoords"
           }
          ],
          "pie": [
           {
            "automargin": true,
            "type": "pie"
           }
          ],
          "scatter": [
           {
            "fillpattern": {
             "fillmode": "overlay",
             "size": 10,
             "solidity": 0.2
            },
            "type": "scatter"
           }
          ],
          "scatter3d": [
           {
            "line": {
             "colorbar": {
              "outlinewidth": 0,
              "ticks": ""
             }
            },
            "marker": {
             "colorbar": {
              "outlinewidth": 0,
              "ticks": ""
             }
            },
            "type": "scatter3d"
           }
          ],
          "scattercarpet": [
           {
            "marker": {
             "colorbar": {
              "outlinewidth": 0,
              "ticks": ""
             }
            },
            "type": "scattercarpet"
           }
          ],
          "scattergeo": [
           {
            "marker": {
             "colorbar": {
              "outlinewidth": 0,
              "ticks": ""
             }
            },
            "type": "scattergeo"
           }
          ],
          "scattergl": [
           {
            "marker": {
             "colorbar": {
              "outlinewidth": 0,
              "ticks": ""
             }
            },
            "type": "scattergl"
           }
          ],
          "scattermapbox": [
           {
            "marker": {
             "colorbar": {
              "outlinewidth": 0,
              "ticks": ""
             }
            },
            "type": "scattermapbox"
           }
          ],
          "scatterpolar": [
           {
            "marker": {
             "colorbar": {
              "outlinewidth": 0,
              "ticks": ""
             }
            },
            "type": "scatterpolar"
           }
          ],
          "scatterpolargl": [
           {
            "marker": {
             "colorbar": {
              "outlinewidth": 0,
              "ticks": ""
             }
            },
            "type": "scatterpolargl"
           }
          ],
          "scatterternary": [
           {
            "marker": {
             "colorbar": {
              "outlinewidth": 0,
              "ticks": ""
             }
            },
            "type": "scatterternary"
           }
          ],
          "surface": [
           {
            "colorbar": {
             "outlinewidth": 0,
             "ticks": ""
            },
            "colorscale": [
             [
              0,
              "#0d0887"
             ],
             [
              0.1111111111111111,
              "#46039f"
             ],
             [
              0.2222222222222222,
              "#7201a8"
             ],
             [
              0.3333333333333333,
              "#9c179e"
             ],
             [
              0.4444444444444444,
              "#bd3786"
             ],
             [
              0.5555555555555556,
              "#d8576b"
             ],
             [
              0.6666666666666666,
              "#ed7953"
             ],
             [
              0.7777777777777778,
              "#fb9f3a"
             ],
             [
              0.8888888888888888,
              "#fdca26"
             ],
             [
              1,
              "#f0f921"
             ]
            ],
            "type": "surface"
           }
          ],
          "table": [
           {
            "cells": {
             "fill": {
              "color": "#EBF0F8"
             },
             "line": {
              "color": "white"
             }
            },
            "header": {
             "fill": {
              "color": "#C8D4E3"
             },
             "line": {
              "color": "white"
             }
            },
            "type": "table"
           }
          ]
         },
         "layout": {
          "annotationdefaults": {
           "arrowcolor": "#2a3f5f",
           "arrowhead": 0,
           "arrowwidth": 1
          },
          "autotypenumbers": "strict",
          "coloraxis": {
           "colorbar": {
            "outlinewidth": 0,
            "ticks": ""
           }
          },
          "colorscale": {
           "diverging": [
            [
             0,
             "#8e0152"
            ],
            [
             0.1,
             "#c51b7d"
            ],
            [
             0.2,
             "#de77ae"
            ],
            [
             0.3,
             "#f1b6da"
            ],
            [
             0.4,
             "#fde0ef"
            ],
            [
             0.5,
             "#f7f7f7"
            ],
            [
             0.6,
             "#e6f5d0"
            ],
            [
             0.7,
             "#b8e186"
            ],
            [
             0.8,
             "#7fbc41"
            ],
            [
             0.9,
             "#4d9221"
            ],
            [
             1,
             "#276419"
            ]
           ],
           "sequential": [
            [
             0,
             "#0d0887"
            ],
            [
             0.1111111111111111,
             "#46039f"
            ],
            [
             0.2222222222222222,
             "#7201a8"
            ],
            [
             0.3333333333333333,
             "#9c179e"
            ],
            [
             0.4444444444444444,
             "#bd3786"
            ],
            [
             0.5555555555555556,
             "#d8576b"
            ],
            [
             0.6666666666666666,
             "#ed7953"
            ],
            [
             0.7777777777777778,
             "#fb9f3a"
            ],
            [
             0.8888888888888888,
             "#fdca26"
            ],
            [
             1,
             "#f0f921"
            ]
           ],
           "sequentialminus": [
            [
             0,
             "#0d0887"
            ],
            [
             0.1111111111111111,
             "#46039f"
            ],
            [
             0.2222222222222222,
             "#7201a8"
            ],
            [
             0.3333333333333333,
             "#9c179e"
            ],
            [
             0.4444444444444444,
             "#bd3786"
            ],
            [
             0.5555555555555556,
             "#d8576b"
            ],
            [
             0.6666666666666666,
             "#ed7953"
            ],
            [
             0.7777777777777778,
             "#fb9f3a"
            ],
            [
             0.8888888888888888,
             "#fdca26"
            ],
            [
             1,
             "#f0f921"
            ]
           ]
          },
          "colorway": [
           "#636efa",
           "#EF553B",
           "#00cc96",
           "#ab63fa",
           "#FFA15A",
           "#19d3f3",
           "#FF6692",
           "#B6E880",
           "#FF97FF",
           "#FECB52"
          ],
          "font": {
           "color": "#2a3f5f"
          },
          "geo": {
           "bgcolor": "white",
           "lakecolor": "white",
           "landcolor": "#E5ECF6",
           "showlakes": true,
           "showland": true,
           "subunitcolor": "white"
          },
          "hoverlabel": {
           "align": "left"
          },
          "hovermode": "closest",
          "mapbox": {
           "style": "light"
          },
          "paper_bgcolor": "white",
          "plot_bgcolor": "#E5ECF6",
          "polar": {
           "angularaxis": {
            "gridcolor": "white",
            "linecolor": "white",
            "ticks": ""
           },
           "bgcolor": "#E5ECF6",
           "radialaxis": {
            "gridcolor": "white",
            "linecolor": "white",
            "ticks": ""
           }
          },
          "scene": {
           "xaxis": {
            "backgroundcolor": "#E5ECF6",
            "gridcolor": "white",
            "gridwidth": 2,
            "linecolor": "white",
            "showbackground": true,
            "ticks": "",
            "zerolinecolor": "white"
           },
           "yaxis": {
            "backgroundcolor": "#E5ECF6",
            "gridcolor": "white",
            "gridwidth": 2,
            "linecolor": "white",
            "showbackground": true,
            "ticks": "",
            "zerolinecolor": "white"
           },
           "zaxis": {
            "backgroundcolor": "#E5ECF6",
            "gridcolor": "white",
            "gridwidth": 2,
            "linecolor": "white",
            "showbackground": true,
            "ticks": "",
            "zerolinecolor": "white"
           }
          },
          "shapedefaults": {
           "line": {
            "color": "#2a3f5f"
           }
          },
          "ternary": {
           "aaxis": {
            "gridcolor": "white",
            "linecolor": "white",
            "ticks": ""
           },
           "baxis": {
            "gridcolor": "white",
            "linecolor": "white",
            "ticks": ""
           },
           "bgcolor": "#E5ECF6",
           "caxis": {
            "gridcolor": "white",
            "linecolor": "white",
            "ticks": ""
           }
          },
          "title": {
           "x": 0.05
          },
          "xaxis": {
           "automargin": true,
           "gridcolor": "white",
           "linecolor": "white",
           "ticks": "",
           "title": {
            "standoff": 15
           },
           "zerolinecolor": "white",
           "zerolinewidth": 2
          },
          "yaxis": {
           "automargin": true,
           "gridcolor": "white",
           "linecolor": "white",
           "ticks": "",
           "title": {
            "standoff": 15
           },
           "zerolinecolor": "white",
           "zerolinewidth": 2
          }
         }
        },
        "title": {
         "text": "Total de Pessoas Entrevistadas por Região"
        },
        "xaxis": {
         "anchor": "y",
         "domain": [
          0,
          1
         ],
         "title": {
          "text": "Região"
         }
        },
        "yaxis": {
         "anchor": "x",
         "domain": [
          0,
          1
         ],
         "title": {
          "text": "Total"
         }
        }
       }
      }
     },
     "metadata": {},
     "output_type": "display_data"
    }
   ],
   "source": [
    "# Boxplot\n",
    "fig = px.box(df, x='Região', y='Total')\n",
    "fig.update_layout(\n",
    "    title='Total de Pessoas Entrevistadas por Região',\n",
    ")\n",
    "fig.show()"
   ]
  },
  {
   "cell_type": "code",
   "execution_count": 47,
   "metadata": {},
   "outputs": [
    {
     "data": {
      "application/vnd.plotly.v1+json": {
       "config": {
        "plotlyServerURL": "https://plot.ly"
       },
       "data": [
        {
         "alignmentgroup": "True",
         "bingroup": "x",
         "hovertemplate": "Total=%{x}<br>count=%{y}<extra></extra>",
         "legendgroup": "",
         "marker": {
          "color": "#636efa",
          "pattern": {
           "shape": ""
          }
         },
         "name": "",
         "offsetgroup": "",
         "orientation": "v",
         "showlegend": false,
         "type": "histogram",
         "x": [
          1118,
          1629,
          1960,
          1766,
          2495,
          3337,
          1463,
          1459,
          1768,
          1492,
          2325,
          3196,
          815,
          1066,
          1358,
          1285,
          1918,
          2640,
          1404,
          1839,
          2070,
          1918,
          2625,
          3559,
          1561,
          2056,
          2290,
          2079,
          2820,
          3571,
          1419,
          1944,
          2186,
          1954,
          2834,
          3159,
          1380,
          1713,
          1712,
          1913,
          2454,
          2521,
          1152,
          1522,
          1816,
          1449,
          2281,
          3126,
          2512,
          1481,
          1831,
          1590,
          2417,
          3343,
          1500,
          1647,
          1895,
          2073,
          2363,
          3248,
          1165,
          1390,
          1766,
          1384,
          2323,
          3255,
          984,
          1521,
          1701,
          1473,
          2177,
          3505,
          1051,
          1436,
          1727,
          1432,
          2063,
          3336,
          688,
          950,
          1292,
          1199,
          1729,
          2374,
          618,
          947,
          1141,
          1304,
          1824,
          2162,
          849,
          1089,
          1353,
          1333,
          1840,
          2750,
          1054,
          1194,
          1562,
          1545,
          1994,
          2235,
          867,
          1032,
          1398,
          1141,
          1808,
          2382,
          879,
          1149,
          1420,
          1376,
          2036,
          2987,
          998,
          1163,
          1354,
          1326,
          1867,
          2361,
          1014,
          1062,
          1466,
          1644,
          2256,
          3331,
          779,
          1047,
          1326,
          1172,
          1954,
          2637,
          1081,
          1547,
          1839,
          1737,
          2330,
          2724,
          1396,
          1765,
          1978,
          1672,
          2472,
          2906,
          1616,
          1706,
          1931,
          1885,
          2587,
          3325,
          1566,
          2127,
          2249,
          2028,
          2755,
          3991,
          1608,
          2044,
          2237,
          1998,
          2869,
          3315,
          1720,
          2261,
          2485,
          2113,
          2898,
          3049,
          1363,
          1957,
          2187,
          2140,
          2714,
          4022,
          1456,
          1893,
          2125,
          2208,
          2869,
          3613,
          1465,
          2248,
          2442,
          1779,
          2643,
          2737,
          1330,
          1865,
          2051,
          1928,
          2764,
          2695,
          1683,
          1796,
          2262,
          2017,
          3163,
          3832,
          1164,
          1684,
          2006,
          1817,
          2554,
          3246,
          1300,
          1412,
          1617,
          1471,
          2187,
          2838,
          831,
          1141,
          1438,
          1314,
          1968,
          2643,
          1578,
          1876,
          2127,
          2011,
          2706,
          3480,
          1516,
          2144,
          2343,
          2079,
          2917,
          3406,
          1650,
          2058,
          2263,
          1974,
          2860,
          3186,
          1427,
          1734,
          1860,
          1698,
          2459,
          3038,
          1144,
          1416,
          1914,
          1568,
          2406,
          2859,
          1073,
          1498,
          1523,
          1495,
          2231,
          3168,
          1610,
          1663,
          1719,
          1639,
          2414,
          3075,
          1396,
          1313,
          1534,
          1377,
          2032,
          2445,
          1510,
          1608,
          1720,
          1762,
          2734,
          2861,
          1085,
          1302,
          1612,
          1505,
          2046,
          3027,
          736,
          971,
          1309,
          1190,
          1799,
          2159,
          604,
          970,
          1432,
          1193,
          1944,
          2081,
          807,
          1129,
          1356,
          1226,
          1805,
          2656,
          1035,
          1213,
          1496,
          1468,
          1941,
          2363,
          832,
          1129,
          1367,
          1274,
          1735,
          2309,
          947,
          1323,
          1602,
          1465,
          2432,
          2923,
          1110,
          1173,
          1538,
          1514,
          1784,
          2345,
          954,
          1154,
          1878,
          1368,
          2154,
          3038,
          785,
          1133,
          1376,
          1292,
          1918,
          2885,
          1148,
          1651,
          1891,
          1833,
          2305,
          2762,
          1386,
          1779,
          2065,
          1940,
          2582,
          2726,
          1645,
          1777,
          1913,
          1964,
          2565,
          3675,
          1880,
          2100,
          2327,
          2125,
          2912,
          3721,
          1465,
          2156,
          2392,
          2107,
          2984,
          3516,
          2028,
          2274,
          2494,
          2195,
          2973,
          3348,
          1255,
          2069,
          2167,
          1988,
          2812,
          3364,
          1513,
          2036,
          2391,
          2113,
          2792,
          3003,
          1606,
          2086,
          2359,
          1920,
          2865,
          2643,
          1569,
          2071,
          2172,
          1853,
          2657,
          3143,
          2401,
          1990,
          2203,
          2415,
          3341,
          3731,
          1190,
          1721,
          2077,
          1871,
          2524,
          3172,
          1192,
          1454,
          1773,
          1518,
          2261,
          2919,
          830,
          1167,
          1521,
          1367,
          1988,
          2639,
          1631,
          1941,
          2182,
          2044,
          2641,
          3432,
          1789,
          2208,
          2449,
          2196,
          2912,
          3186,
          1816,
          2068,
          2318,
          2149,
          2832,
          3100,
          1447,
          1802,
          2118,
          2172,
          2386,
          2903,
          1255,
          1527,
          1662,
          1625,
          2249,
          2925,
          989,
          1531,
          1747,
          1563,
          2280,
          2926,
          1883,
          1685,
          1737,
          1666,
          2449,
          2835,
          1164,
          1308,
          1695,
          1390,
          2172,
          2910,
          1382,
          1685,
          1662,
          1532,
          2534,
          2715,
          1118,
          1556,
          1860,
          1490,
          2297,
          3071,
          614,
          1009,
          1297,
          1179,
          1731,
          1998,
          557,
          953,
          1296,
          1402,
          1831,
          2202,
          792,
          1173,
          1419,
          1331,
          1882,
          2319,
          1053,
          1284,
          1700,
          1337,
          1948,
          2726,
          865,
          1162,
          1372,
          1326,
          1852,
          2489,
          990,
          1287,
          1860,
          1481,
          2317,
          3284,
          997,
          1226,
          1520,
          1413,
          1869,
          2185,
          995,
          1172,
          1501,
          1427,
          2114,
          2532,
          851,
          1183,
          1514,
          1387,
          2017,
          2844,
          1331,
          1710,
          1898,
          1709,
          2349,
          2940,
          1451,
          1841,
          2142,
          1802,
          2653,
          3261,
          1554,
          1814,
          2042,
          1869,
          2544,
          3332,
          1912,
          2165,
          2380,
          2286,
          2788,
          3659,
          1677,
          2203,
          2532,
          2222,
          2975,
          3344,
          2250,
          2461,
          2466,
          2483,
          2957,
          3039,
          1585,
          2082,
          2360,
          2013,
          2806,
          3151,
          1522,
          2002,
          2214,
          2275,
          2940,
          2689,
          1740,
          2273,
          2485,
          2020,
          2754,
          2861,
          1652,
          2025,
          2279,
          2098,
          2678,
          3017,
          2703,
          1984,
          2235,
          2418,
          3196,
          3674,
          1128,
          1649,
          1979,
          1771,
          2410,
          2927,
          1131,
          1406,
          1656,
          1515,
          2116,
          2540,
          815,
          1131,
          1393,
          1312,
          1899,
          2358,
          1570,
          1861,
          2105,
          1902,
          2557,
          3116,
          1675,
          2106,
          2334,
          2088,
          2681,
          3225,
          1517,
          1955,
          2161,
          2057,
          2753,
          2885,
          1634,
          2038,
          1921,
          1818,
          2267,
          2437,
          1195,
          1526,
          1845,
          1801,
          2092,
          2301,
          1068,
          1304,
          1796,
          1487,
          2144,
          2855,
          1345,
          1607,
          1939,
          1641,
          2099,
          2648,
          983,
          1234,
          1447,
          1435,
          2005,
          2327,
          1569,
          1962,
          1884,
          1557,
          2369,
          2849,
          1275,
          1579,
          1832,
          1562,
          2313,
          2589,
          749,
          931,
          1166,
          1148,
          1672,
          2234,
          561,
          961,
          1390,
          1381,
          1674,
          2467,
          838,
          1224,
          1366,
          1392,
          1961,
          2511,
          1139,
          1259,
          1673,
          1386,
          2001,
          2415,
          834,
          1142,
          1396,
          1358,
          1915,
          2295,
          856,
          1199,
          1485,
          1375,
          1997,
          2343,
          945,
          1160,
          1469,
          1333,
          1891,
          2001,
          950,
          1094,
          1391,
          1236,
          2086,
          2379,
          774,
          1145,
          1398,
          1267,
          1887,
          2372,
          1104,
          1661,
          1870,
          1815,
          2244,
          2731,
          1199,
          1739,
          1887,
          1845,
          2516,
          3100,
          1738,
          1750,
          2003,
          1782,
          2558,
          3049,
          1811,
          2068,
          2285,
          1989,
          2680,
          3298,
          1777,
          2027,
          2288,
          2202,
          2705,
          3053,
          1853,
          2293,
          2436,
          2187,
          2786,
          2881,
          1315,
          2082,
          2299,
          1941,
          2588,
          3533,
          1425,
          1945,
          1986,
          2058,
          2624,
          2661,
          1789,
          2216,
          2223,
          2165,
          2531,
          2647,
          1371,
          1855,
          2165,
          2016,
          2645,
          2808,
          1600,
          1903,
          2220,
          2035,
          3348,
          3412,
          1133,
          1585,
          1926,
          1642,
          2324,
          2765,
          1092,
          1280,
          1474,
          1350,
          1924,
          2264,
          828,
          1073,
          1393,
          1254,
          1799,
          2328,
          1606,
          1773,
          2055,
          1757,
          2480,
          2865,
          1728,
          2085,
          2238,
          1970,
          2674,
          2973,
          1517,
          1929,
          2067,
          1880,
          2526,
          3023,
          1612,
          1634,
          1749,
          1712,
          2085,
          2285,
          992,
          1523,
          1592,
          1552,
          1909,
          2314,
          907,
          1138,
          1457,
          1183,
          1820,
          2153,
          1222,
          1683,
          1708,
          1630,
          2117,
          2722,
          1046,
          1187,
          1368,
          1299,
          1888,
          2222,
          1432,
          1370,
          1555,
          1510,
          2127,
          2293,
          1120,
          1508,
          1605,
          1340,
          2005,
          2384,
          715,
          946,
          1245,
          1087,
          1669,
          2248,
          588,
          938,
          1297,
          1105,
          1732,
          1898,
          824,
          1059,
          1501,
          1353,
          1858,
          2238,
          967,
          1161,
          1545,
          1334,
          1808,
          2017,
          786,
          1075,
          1281,
          1341,
          1769,
          2274,
          937,
          1168,
          1420,
          1412,
          1825,
          2314,
          1003,
          1120,
          1319,
          1151,
          1779,
          2346,
          911,
          1111,
          1449,
          1317,
          2003,
          2370,
          822,
          1079,
          1382,
          1194,
          1793,
          2577,
          1132,
          1584,
          1753,
          1633,
          2203,
          2464,
          1356,
          1646,
          1924,
          1768,
          2401,
          2533,
          1495,
          1644,
          1902,
          1749,
          2483,
          3064,
          1962,
          1980,
          2288,
          1824,
          2589,
          2996,
          1666,
          1996,
          2189,
          1983,
          2685,
          2848,
          1870,
          2302,
          2423,
          2129,
          2707,
          2727,
          1743,
          2047,
          2153,
          1865,
          2640,
          3178,
          1418,
          1960,
          2112,
          2001,
          2702,
          2705,
          1628,
          2186,
          2106,
          1847,
          2457,
          2732,
          1331,
          1812,
          1967,
          1784,
          2359,
          3112,
          2232,
          1842,
          2213,
          2112,
          2838,
          3423,
          1130,
          1612,
          1895,
          1764,
          2286,
          2924,
          1068,
          1299,
          1500,
          1434,
          1910,
          2485,
          816,
          1059,
          1333,
          1305,
          1753,
          2864,
          1534,
          1784,
          1974,
          1876,
          2434,
          3014,
          1755,
          2151,
          2297,
          2142,
          2606,
          3004,
          1580,
          1995,
          2122,
          2029,
          2628,
          2754,
          1500,
          1769,
          1833,
          1733,
          2260,
          2549,
          1269,
          1458,
          1445,
          1706,
          1905,
          2127,
          928,
          1175,
          1345,
          1384,
          1796,
          2450,
          1291,
          1468,
          1562,
          1321,
          1980,
          3346,
          941,
          1194,
          1397,
          1386,
          1804,
          2447,
          1407,
          1535,
          1452,
          1356,
          2636,
          2702,
          1265,
          1377,
          2010,
          1428,
          1976,
          2417,
          706,
          952,
          1194,
          1007,
          1637,
          2180,
          650,
          939,
          1266,
          1253,
          1799,
          1908,
          850,
          1043,
          1363,
          1254,
          1789,
          2500,
          927,
          1208,
          1278,
          1469,
          1817,
          2162,
          862,
          1045,
          1350,
          1415,
          1713,
          2552,
          921,
          1080,
          1489,
          1619,
          1770,
          2374,
          1004,
          1111,
          1303,
          1377,
          1725,
          1930,
          853,
          1103,
          1526,
          1295,
          2003,
          2231,
          765,
          1079,
          1288,
          1235,
          1727,
          4199,
          1200,
          1578,
          1756,
          1625,
          2199,
          2534,
          1357,
          1750,
          1936,
          1750,
          2306,
          2617,
          1581,
          1658,
          1892,
          1799,
          2366,
          2978,
          1730,
          1980,
          2124,
          2031,
          2559,
          3242,
          1685,
          1947,
          2276,
          2218,
          2605,
          2822,
          2294,
          2430,
          2480,
          2263,
          2737,
          2914,
          1444,
          2187,
          2184,
          1998,
          2512,
          3173,
          1329,
          1922,
          2290,
          1894,
          2700,
          2588,
          1748,
          2359,
          2239,
          2044,
          2582,
          2794,
          1459,
          1881,
          2028,
          2117,
          2486,
          2708,
          1726,
          1887,
          2029,
          1849,
          2970,
          2929,
          1124,
          1603,
          1888,
          1728,
          2311,
          2846,
          1080,
          1324,
          1549,
          1384,
          1946,
          2400,
          785,
          1033,
          1345,
          1305,
          1734,
          2276,
          1453,
          1816,
          1986,
          1881,
          2456,
          3048,
          1907,
          2052,
          2180,
          2000,
          2727,
          3023,
          1782,
          1967,
          2142,
          1860,
          2604,
          2938,
          1623,
          1932,
          2181,
          1749,
          2460,
          2494,
          1016,
          1317,
          1465,
          1684,
          1945,
          2313,
          847,
          1114,
          1226,
          1103,
          1673,
          2256,
          1347,
          1529,
          2070,
          1889,
          1991,
          2698,
          991,
          1218,
          1512,
          1335,
          1938,
          2406,
          1310,
          1265,
          1602,
          1553,
          2181,
          2097,
          1334,
          1523,
          1411,
          1527,
          2031,
          2661,
          695,
          987,
          1254,
          1148,
          1657,
          2141,
          497,
          908,
          1417,
          1352,
          1812,
          2314,
          918,
          1010,
          1253,
          1150,
          1598,
          2340,
          711,
          1004,
          1414,
          1536,
          1829,
          2547,
          803,
          1047,
          1317,
          1443,
          1615,
          2750,
          821,
          1044,
          1400,
          1413,
          1738,
          2259,
          1048,
          1148,
          1352,
          1293,
          1792,
          2095,
          741,
          1053,
          1235,
          1377,
          2067,
          2616,
          741,
          1063,
          1439,
          1311,
          1786,
          2064,
          1120,
          1615,
          1794,
          1615,
          2150,
          2643,
          1311,
          1691,
          1823,
          1795,
          2256,
          2660,
          1649,
          1639,
          1931,
          1788,
          2415,
          3422,
          1605,
          2043,
          2123,
          2057,
          2598,
          3090,
          1891,
          2010,
          2180,
          1983,
          2678,
          2981,
          2106,
          2194,
          2303,
          2046,
          2896,
          2907,
          1773,
          2010,
          2099,
          1985,
          2662,
          3117,
          1631,
          1975,
          2051,
          1877,
          2640,
          3120,
          1827,
          2369,
          2418,
          1979,
          2656,
          2629,
          1558,
          1749,
          1985,
          1789,
          2397,
          2763,
          2403,
          2006,
          2305,
          1859,
          3015,
          3475,
          1181,
          1560,
          1868,
          1736,
          2268,
          2833,
          1102,
          1210,
          1458,
          1385,
          1895,
          2228,
          788,
          1026,
          1309,
          1199,
          1729,
          2265,
          1791,
          1760,
          1995,
          1915,
          2408,
          3125,
          1822,
          2050,
          2241,
          2020,
          2689,
          2928,
          1603,
          1919,
          2021,
          1928,
          2453,
          2708,
          1956,
          1772,
          1991,
          1832,
          2509,
          2887,
          1181,
          1350,
          1495,
          1382,
          2063,
          1945,
          753,
          1038,
          1318,
          1157,
          1837,
          2259,
          1695,
          1646,
          1850,
          1578,
          2038,
          2500,
          1066,
          1085,
          1328,
          1328,
          1704,
          2011,
          1581,
          1292,
          1619,
          1849,
          2083,
          2550,
          978,
          1350,
          1668,
          1293,
          2088,
          2038,
          676,
          962,
          1214,
          1045,
          1642,
          2172,
          648,
          871,
          1181,
          1242,
          1670,
          2042,
          897,
          1020,
          1298,
          1180,
          1705,
          2345,
          1131,
          1043,
          1378,
          1266,
          1891,
          2324,
          784,
          1066,
          1401,
          1335,
          1750,
          2607,
          719,
          1047,
          1191,
          1215,
          1745,
          2572,
          1096,
          1134,
          1347,
          1217,
          1836,
          2159,
          815,
          959,
          1218,
          1300,
          1836,
          2721,
          733,
          1056,
          1442,
          1196,
          1706,
          1917,
          1428,
          1540,
          1793,
          1909,
          2182,
          2261,
          1338,
          1600,
          2023,
          1825,
          2283,
          3302,
          1856,
          1588,
          1866,
          1841,
          2353,
          3041,
          1997,
          2007,
          2135,
          1950,
          2523,
          3500,
          1808,
          2017,
          2219,
          2086,
          2660,
          2659,
          1963,
          2261,
          2340,
          2138,
          2754,
          2870,
          1673,
          1967,
          2186,
          1865,
          2674,
          3154,
          1622,
          1927,
          2080,
          2059,
          2505,
          3256,
          1548,
          2161,
          2177,
          2064,
          2403,
          2699,
          1483,
          1781,
          1930,
          1811,
          2230,
          2458,
          2092,
          1966,
          1974,
          1862,
          3045,
          2778,
          1129,
          1598,
          1896,
          1763,
          2237,
          2780,
          1083,
          1253,
          1537,
          1384,
          1860,
          2382,
          788,
          1077,
          1235,
          1301,
          1676,
          2191,
          1553,
          1815,
          2027,
          1933,
          2374,
          3082,
          1935,
          1995,
          2268,
          2030,
          2674,
          2793,
          1611,
          1911,
          2129,
          1959,
          2451,
          2656,
          1714,
          1810,
          1967,
          1867,
          2360,
          2365,
          1193,
          1564,
          1572,
          2349,
          1801,
          2196,
          906,
          982,
          1371,
          1121,
          1740,
          2583,
          1260,
          1430,
          2394,
          1459,
          1894,
          2548,
          1045,
          1160,
          1413,
          1251,
          1743,
          2324,
          1329,
          1339,
          1766,
          1742,
          2075,
          2313,
          902,
          1433,
          1691,
          1326,
          2064,
          2195,
          759,
          957,
          1217,
          1062,
          1553,
          1910,
          582,
          884,
          1196,
          1332,
          1585,
          2246,
          688,
          1138,
          1197,
          1152,
          1658,
          2209,
          868,
          1108,
          1121,
          1255,
          1802,
          2758,
          891,
          1061,
          1376,
          1118,
          1633,
          2069,
          856,
          1134,
          1279,
          1414,
          1719,
          2063,
          1057,
          1128,
          1302,
          1166,
          1677,
          1956,
          955,
          1076,
          1175,
          1564,
          1991,
          2536,
          754,
          1096,
          1237,
          1460,
          1664,
          2216,
          1039,
          1581,
          1839,
          1847,
          2077,
          2347,
          1471,
          1589,
          1659,
          1760,
          2174,
          2981,
          1902,
          1622,
          1858,
          1880,
          2430,
          2916,
          1628,
          2092,
          2215,
          2015,
          2490,
          3443,
          1888,
          1947,
          2227,
          2119,
          2680,
          2749,
          2386,
          2228,
          2406,
          2043,
          2642,
          2591,
          1543,
          1914,
          2194,
          1921,
          2692,
          2922,
          1518,
          1860,
          2132,
          1995,
          2513,
          3026,
          1563,
          2067,
          2166,
          2208,
          2495,
          2258,
          1553,
          1814,
          2125,
          1746,
          2268,
          2475,
          2032,
          2058,
          2078,
          2030,
          2841,
          3181,
          1188,
          1503,
          1749,
          1603,
          2087,
          2756,
          1130,
          1245,
          1399,
          1299,
          1728,
          2062,
          883,
          1019,
          1341,
          1151,
          1598,
          2203,
          1603,
          1652,
          1802,
          1749,
          2208,
          3103,
          1646,
          1920,
          2102,
          1988,
          2494,
          2811,
          1612,
          1958,
          1956,
          1757,
          2306,
          2430,
          1807,
          1689,
          2158,
          1536,
          2067,
          2121,
          1098,
          1368,
          1348,
          1454,
          1830,
          2094,
          856,
          1076,
          1314,
          1105,
          1683,
          2110,
          1312,
          1315,
          1297,
          1357,
          1647,
          2008,
          1092,
          1141,
          1295,
          1258,
          1674,
          1985,
          996,
          1283,
          1300,
          1364,
          1708,
          2728,
          1360,
          1558,
          1379,
          1478,
          1763,
          1770,
          1010,
          1025,
          1193,
          1055,
          1525,
          1790,
          690,
          906,
          1152,
          1107,
          1474,
          1906,
          797,
          1108,
          1517,
          1220,
          1705,
          2232,
          732,
          1046,
          1282,
          1591,
          1631,
          3973,
          741,
          1023,
          1259,
          1079,
          1507,
          2286,
          1209,
          1034,
          1393,
          1128,
          1451,
          2092,
          900,
          1136,
          1244,
          1249,
          1504,
          1981,
          819,
          960,
          1193,
          1278,
          1667,
          2539,
          774,
          961,
          1369,
          1058,
          1701,
          1946,
          1134,
          1548,
          1713,
          1616,
          1969,
          2308,
          1219,
          1552,
          1680,
          1625,
          2088,
          2320,
          2092,
          1460,
          1699,
          1569,
          2200,
          2757,
          1695,
          1820,
          1897,
          1899,
          2315,
          3537,
          1346,
          1811,
          1984,
          2001,
          2480,
          2773,
          1947,
          2195,
          2344,
          2130,
          2593,
          2681,
          1833,
          1874,
          2026,
          1874,
          2434,
          2904,
          1461,
          1872,
          1930,
          1679,
          2484,
          2356,
          1878,
          2352,
          2270,
          1794,
          2488,
          2744,
          1479,
          1804,
          1847,
          1765,
          2154,
          2334,
          1661,
          1894,
          1849,
          1742,
          2333,
          2397,
          1302,
          1564,
          1833,
          1678,
          2110,
          2626,
          1123,
          1348,
          1434,
          1400,
          1770,
          2145,
          877,
          1057,
          1220,
          1190,
          1557,
          1988,
          2024,
          1699,
          1932,
          1817,
          2244,
          2809,
          1676,
          2096,
          2246,
          1998,
          2511,
          2929,
          1689,
          1962,
          2127,
          1941,
          2470,
          2689,
          1565,
          1845,
          2102,
          1875,
          2151,
          2246,
          1287,
          1366,
          1761,
          1386,
          1856,
          1963,
          978,
          1049,
          1326,
          1182,
          1632,
          1969,
          1684,
          1423,
          1854,
          1340,
          2181,
          2633,
          975,
          1315,
          1247,
          1383,
          1680,
          2195,
          1281,
          1286,
          1473,
          1096,
          1994,
          1823,
          1420,
          1493,
          1500,
          1442,
          1810,
          2264,
          787,
          1044,
          1180,
          1011,
          1591,
          1852,
          602,
          959,
          1246,
          1214,
          1536,
          1707,
          807,
          1013,
          1122,
          1242,
          1551,
          1875,
          828,
          1211,
          1472,
          1523,
          1669,
          2453,
          837,
          970,
          1149,
          1166,
          1541,
          2147,
          960,
          1126,
          1253,
          1129,
          1552,
          1979,
          947,
          1116,
          1208,
          1235,
          1598,
          2567,
          924,
          1175,
          1505,
          1158,
          1742,
          1651,
          951,
          1024,
          1200,
          1171,
          1497,
          1942,
          1228,
          1584,
          2027,
          1717,
          2023,
          2367,
          1748,
          1673,
          1822,
          1735,
          2155,
          2443,
          1771,
          1543,
          1759,
          1645,
          2147,
          3158,
          2539,
          1857,
          1949,
          1939,
          2364,
          2858,
          1438,
          1981,
          2237,
          1849,
          2407,
          2501,
          2022,
          2337,
          2360,
          2241,
          2675,
          2806,
          1662,
          2068,
          2172,
          1994,
          2504,
          3294,
          2191,
          1973,
          2168,
          1825,
          2596,
          2903,
          2082,
          2433,
          2344,
          2247,
          2689,
          2684,
          1374,
          1733,
          1974,
          1820,
          2260,
          2493,
          1863,
          1891,
          2191,
          1818,
          2668,
          2908,
          1389,
          1638,
          1866,
          1742,
          2253,
          2770,
          1253,
          1417,
          1598,
          1437,
          1944,
          2290,
          830,
          1047,
          1305,
          1217,
          1628,
          2078,
          1999,
          1818,
          1975,
          1847,
          2426,
          2988,
          1966,
          2058,
          2221,
          2159,
          2656,
          3027,
          1990,
          2190,
          2071,
          2068,
          2549,
          2843,
          2061,
          2070,
          2093,
          1936,
          2372,
          2140,
          1207,
          1447,
          1633,
          1256,
          1881,
          2558,
          1076,
          1241,
          1377,
          1300,
          1766,
          2356,
          1677,
          1850,
          1888,
          1547,
          1989,
          2787,
          1069,
          1278,
          1472,
          1335,
          1914,
          2100,
          1142,
          1420,
          1412,
          1356,
          1918,
          1748,
          1552,
          1627,
          2066,
          1610,
          2128,
          3059,
          848,
          994,
          1324,
          1144,
          1668,
          2048,
          592,
          1016,
          1183,
          1224,
          1573,
          1760,
          821,
          997,
          1197,
          1092,
          1567,
          1962,
          991,
          1219,
          1276,
          1278,
          1731,
          1848,
          826,
          1009,
          1214,
          1282,
          1697,
          2762,
          873,
          1057,
          1616,
          1196,
          1685,
          1856,
          976,
          1122,
          1254,
          1241,
          1666,
          2122,
          838,
          1049,
          1315,
          1197,
          1640,
          2274,
          789,
          1057,
          1234,
          1286,
          1576,
          2196,
          1598,
          1694,
          2003,
          1802,
          2227,
          2730,
          1647,
          1879,
          1847,
          1713,
          2373,
          2712,
          2310,
          1598,
          1714,
          1759,
          2352,
          3278,
          2064,
          1970,
          2053,
          1910,
          2532,
          3000,
          1961,
          2004,
          2196,
          2072,
          2638,
          2781,
          2213,
          2278,
          2408,
          2240,
          2730,
          3073,
          1725,
          1989,
          2090,
          2184,
          2618,
          3183,
          1487,
          2339,
          1993,
          1978,
          2542,
          3569,
          2040,
          2618,
          2507,
          2441,
          2654,
          2626,
          1555,
          2016,
          1877,
          1956,
          2471,
          2589,
          4139,
          1788,
          2098,
          1927,
          2642,
          2951
         ],
         "xaxis": "x",
         "yaxis": "y"
        }
       ],
       "layout": {
        "barmode": "relative",
        "legend": {
         "tracegroupgap": 0
        },
        "margin": {
         "t": 60
        },
        "template": {
         "data": {
          "bar": [
           {
            "error_x": {
             "color": "#2a3f5f"
            },
            "error_y": {
             "color": "#2a3f5f"
            },
            "marker": {
             "line": {
              "color": "#E5ECF6",
              "width": 0.5
             },
             "pattern": {
              "fillmode": "overlay",
              "size": 10,
              "solidity": 0.2
             }
            },
            "type": "bar"
           }
          ],
          "barpolar": [
           {
            "marker": {
             "line": {
              "color": "#E5ECF6",
              "width": 0.5
             },
             "pattern": {
              "fillmode": "overlay",
              "size": 10,
              "solidity": 0.2
             }
            },
            "type": "barpolar"
           }
          ],
          "carpet": [
           {
            "aaxis": {
             "endlinecolor": "#2a3f5f",
             "gridcolor": "white",
             "linecolor": "white",
             "minorgridcolor": "white",
             "startlinecolor": "#2a3f5f"
            },
            "baxis": {
             "endlinecolor": "#2a3f5f",
             "gridcolor": "white",
             "linecolor": "white",
             "minorgridcolor": "white",
             "startlinecolor": "#2a3f5f"
            },
            "type": "carpet"
           }
          ],
          "choropleth": [
           {
            "colorbar": {
             "outlinewidth": 0,
             "ticks": ""
            },
            "type": "choropleth"
           }
          ],
          "contour": [
           {
            "colorbar": {
             "outlinewidth": 0,
             "ticks": ""
            },
            "colorscale": [
             [
              0,
              "#0d0887"
             ],
             [
              0.1111111111111111,
              "#46039f"
             ],
             [
              0.2222222222222222,
              "#7201a8"
             ],
             [
              0.3333333333333333,
              "#9c179e"
             ],
             [
              0.4444444444444444,
              "#bd3786"
             ],
             [
              0.5555555555555556,
              "#d8576b"
             ],
             [
              0.6666666666666666,
              "#ed7953"
             ],
             [
              0.7777777777777778,
              "#fb9f3a"
             ],
             [
              0.8888888888888888,
              "#fdca26"
             ],
             [
              1,
              "#f0f921"
             ]
            ],
            "type": "contour"
           }
          ],
          "contourcarpet": [
           {
            "colorbar": {
             "outlinewidth": 0,
             "ticks": ""
            },
            "type": "contourcarpet"
           }
          ],
          "heatmap": [
           {
            "colorbar": {
             "outlinewidth": 0,
             "ticks": ""
            },
            "colorscale": [
             [
              0,
              "#0d0887"
             ],
             [
              0.1111111111111111,
              "#46039f"
             ],
             [
              0.2222222222222222,
              "#7201a8"
             ],
             [
              0.3333333333333333,
              "#9c179e"
             ],
             [
              0.4444444444444444,
              "#bd3786"
             ],
             [
              0.5555555555555556,
              "#d8576b"
             ],
             [
              0.6666666666666666,
              "#ed7953"
             ],
             [
              0.7777777777777778,
              "#fb9f3a"
             ],
             [
              0.8888888888888888,
              "#fdca26"
             ],
             [
              1,
              "#f0f921"
             ]
            ],
            "type": "heatmap"
           }
          ],
          "heatmapgl": [
           {
            "colorbar": {
             "outlinewidth": 0,
             "ticks": ""
            },
            "colorscale": [
             [
              0,
              "#0d0887"
             ],
             [
              0.1111111111111111,
              "#46039f"
             ],
             [
              0.2222222222222222,
              "#7201a8"
             ],
             [
              0.3333333333333333,
              "#9c179e"
             ],
             [
              0.4444444444444444,
              "#bd3786"
             ],
             [
              0.5555555555555556,
              "#d8576b"
             ],
             [
              0.6666666666666666,
              "#ed7953"
             ],
             [
              0.7777777777777778,
              "#fb9f3a"
             ],
             [
              0.8888888888888888,
              "#fdca26"
             ],
             [
              1,
              "#f0f921"
             ]
            ],
            "type": "heatmapgl"
           }
          ],
          "histogram": [
           {
            "marker": {
             "pattern": {
              "fillmode": "overlay",
              "size": 10,
              "solidity": 0.2
             }
            },
            "type": "histogram"
           }
          ],
          "histogram2d": [
           {
            "colorbar": {
             "outlinewidth": 0,
             "ticks": ""
            },
            "colorscale": [
             [
              0,
              "#0d0887"
             ],
             [
              0.1111111111111111,
              "#46039f"
             ],
             [
              0.2222222222222222,
              "#7201a8"
             ],
             [
              0.3333333333333333,
              "#9c179e"
             ],
             [
              0.4444444444444444,
              "#bd3786"
             ],
             [
              0.5555555555555556,
              "#d8576b"
             ],
             [
              0.6666666666666666,
              "#ed7953"
             ],
             [
              0.7777777777777778,
              "#fb9f3a"
             ],
             [
              0.8888888888888888,
              "#fdca26"
             ],
             [
              1,
              "#f0f921"
             ]
            ],
            "type": "histogram2d"
           }
          ],
          "histogram2dcontour": [
           {
            "colorbar": {
             "outlinewidth": 0,
             "ticks": ""
            },
            "colorscale": [
             [
              0,
              "#0d0887"
             ],
             [
              0.1111111111111111,
              "#46039f"
             ],
             [
              0.2222222222222222,
              "#7201a8"
             ],
             [
              0.3333333333333333,
              "#9c179e"
             ],
             [
              0.4444444444444444,
              "#bd3786"
             ],
             [
              0.5555555555555556,
              "#d8576b"
             ],
             [
              0.6666666666666666,
              "#ed7953"
             ],
             [
              0.7777777777777778,
              "#fb9f3a"
             ],
             [
              0.8888888888888888,
              "#fdca26"
             ],
             [
              1,
              "#f0f921"
             ]
            ],
            "type": "histogram2dcontour"
           }
          ],
          "mesh3d": [
           {
            "colorbar": {
             "outlinewidth": 0,
             "ticks": ""
            },
            "type": "mesh3d"
           }
          ],
          "parcoords": [
           {
            "line": {
             "colorbar": {
              "outlinewidth": 0,
              "ticks": ""
             }
            },
            "type": "parcoords"
           }
          ],
          "pie": [
           {
            "automargin": true,
            "type": "pie"
           }
          ],
          "scatter": [
           {
            "fillpattern": {
             "fillmode": "overlay",
             "size": 10,
             "solidity": 0.2
            },
            "type": "scatter"
           }
          ],
          "scatter3d": [
           {
            "line": {
             "colorbar": {
              "outlinewidth": 0,
              "ticks": ""
             }
            },
            "marker": {
             "colorbar": {
              "outlinewidth": 0,
              "ticks": ""
             }
            },
            "type": "scatter3d"
           }
          ],
          "scattercarpet": [
           {
            "marker": {
             "colorbar": {
              "outlinewidth": 0,
              "ticks": ""
             }
            },
            "type": "scattercarpet"
           }
          ],
          "scattergeo": [
           {
            "marker": {
             "colorbar": {
              "outlinewidth": 0,
              "ticks": ""
             }
            },
            "type": "scattergeo"
           }
          ],
          "scattergl": [
           {
            "marker": {
             "colorbar": {
              "outlinewidth": 0,
              "ticks": ""
             }
            },
            "type": "scattergl"
           }
          ],
          "scattermapbox": [
           {
            "marker": {
             "colorbar": {
              "outlinewidth": 0,
              "ticks": ""
             }
            },
            "type": "scattermapbox"
           }
          ],
          "scatterpolar": [
           {
            "marker": {
             "colorbar": {
              "outlinewidth": 0,
              "ticks": ""
             }
            },
            "type": "scatterpolar"
           }
          ],
          "scatterpolargl": [
           {
            "marker": {
             "colorbar": {
              "outlinewidth": 0,
              "ticks": ""
             }
            },
            "type": "scatterpolargl"
           }
          ],
          "scatterternary": [
           {
            "marker": {
             "colorbar": {
              "outlinewidth": 0,
              "ticks": ""
             }
            },
            "type": "scatterternary"
           }
          ],
          "surface": [
           {
            "colorbar": {
             "outlinewidth": 0,
             "ticks": ""
            },
            "colorscale": [
             [
              0,
              "#0d0887"
             ],
             [
              0.1111111111111111,
              "#46039f"
             ],
             [
              0.2222222222222222,
              "#7201a8"
             ],
             [
              0.3333333333333333,
              "#9c179e"
             ],
             [
              0.4444444444444444,
              "#bd3786"
             ],
             [
              0.5555555555555556,
              "#d8576b"
             ],
             [
              0.6666666666666666,
              "#ed7953"
             ],
             [
              0.7777777777777778,
              "#fb9f3a"
             ],
             [
              0.8888888888888888,
              "#fdca26"
             ],
             [
              1,
              "#f0f921"
             ]
            ],
            "type": "surface"
           }
          ],
          "table": [
           {
            "cells": {
             "fill": {
              "color": "#EBF0F8"
             },
             "line": {
              "color": "white"
             }
            },
            "header": {
             "fill": {
              "color": "#C8D4E3"
             },
             "line": {
              "color": "white"
             }
            },
            "type": "table"
           }
          ]
         },
         "layout": {
          "annotationdefaults": {
           "arrowcolor": "#2a3f5f",
           "arrowhead": 0,
           "arrowwidth": 1
          },
          "autotypenumbers": "strict",
          "coloraxis": {
           "colorbar": {
            "outlinewidth": 0,
            "ticks": ""
           }
          },
          "colorscale": {
           "diverging": [
            [
             0,
             "#8e0152"
            ],
            [
             0.1,
             "#c51b7d"
            ],
            [
             0.2,
             "#de77ae"
            ],
            [
             0.3,
             "#f1b6da"
            ],
            [
             0.4,
             "#fde0ef"
            ],
            [
             0.5,
             "#f7f7f7"
            ],
            [
             0.6,
             "#e6f5d0"
            ],
            [
             0.7,
             "#b8e186"
            ],
            [
             0.8,
             "#7fbc41"
            ],
            [
             0.9,
             "#4d9221"
            ],
            [
             1,
             "#276419"
            ]
           ],
           "sequential": [
            [
             0,
             "#0d0887"
            ],
            [
             0.1111111111111111,
             "#46039f"
            ],
            [
             0.2222222222222222,
             "#7201a8"
            ],
            [
             0.3333333333333333,
             "#9c179e"
            ],
            [
             0.4444444444444444,
             "#bd3786"
            ],
            [
             0.5555555555555556,
             "#d8576b"
            ],
            [
             0.6666666666666666,
             "#ed7953"
            ],
            [
             0.7777777777777778,
             "#fb9f3a"
            ],
            [
             0.8888888888888888,
             "#fdca26"
            ],
            [
             1,
             "#f0f921"
            ]
           ],
           "sequentialminus": [
            [
             0,
             "#0d0887"
            ],
            [
             0.1111111111111111,
             "#46039f"
            ],
            [
             0.2222222222222222,
             "#7201a8"
            ],
            [
             0.3333333333333333,
             "#9c179e"
            ],
            [
             0.4444444444444444,
             "#bd3786"
            ],
            [
             0.5555555555555556,
             "#d8576b"
            ],
            [
             0.6666666666666666,
             "#ed7953"
            ],
            [
             0.7777777777777778,
             "#fb9f3a"
            ],
            [
             0.8888888888888888,
             "#fdca26"
            ],
            [
             1,
             "#f0f921"
            ]
           ]
          },
          "colorway": [
           "#636efa",
           "#EF553B",
           "#00cc96",
           "#ab63fa",
           "#FFA15A",
           "#19d3f3",
           "#FF6692",
           "#B6E880",
           "#FF97FF",
           "#FECB52"
          ],
          "font": {
           "color": "#2a3f5f"
          },
          "geo": {
           "bgcolor": "white",
           "lakecolor": "white",
           "landcolor": "#E5ECF6",
           "showlakes": true,
           "showland": true,
           "subunitcolor": "white"
          },
          "hoverlabel": {
           "align": "left"
          },
          "hovermode": "closest",
          "mapbox": {
           "style": "light"
          },
          "paper_bgcolor": "white",
          "plot_bgcolor": "#E5ECF6",
          "polar": {
           "angularaxis": {
            "gridcolor": "white",
            "linecolor": "white",
            "ticks": ""
           },
           "bgcolor": "#E5ECF6",
           "radialaxis": {
            "gridcolor": "white",
            "linecolor": "white",
            "ticks": ""
           }
          },
          "scene": {
           "xaxis": {
            "backgroundcolor": "#E5ECF6",
            "gridcolor": "white",
            "gridwidth": 2,
            "linecolor": "white",
            "showbackground": true,
            "ticks": "",
            "zerolinecolor": "white"
           },
           "yaxis": {
            "backgroundcolor": "#E5ECF6",
            "gridcolor": "white",
            "gridwidth": 2,
            "linecolor": "white",
            "showbackground": true,
            "ticks": "",
            "zerolinecolor": "white"
           },
           "zaxis": {
            "backgroundcolor": "#E5ECF6",
            "gridcolor": "white",
            "gridwidth": 2,
            "linecolor": "white",
            "showbackground": true,
            "ticks": "",
            "zerolinecolor": "white"
           }
          },
          "shapedefaults": {
           "line": {
            "color": "#2a3f5f"
           }
          },
          "ternary": {
           "aaxis": {
            "gridcolor": "white",
            "linecolor": "white",
            "ticks": ""
           },
           "baxis": {
            "gridcolor": "white",
            "linecolor": "white",
            "ticks": ""
           },
           "bgcolor": "#E5ECF6",
           "caxis": {
            "gridcolor": "white",
            "linecolor": "white",
            "ticks": ""
           }
          },
          "title": {
           "x": 0.05
          },
          "xaxis": {
           "automargin": true,
           "gridcolor": "white",
           "linecolor": "white",
           "ticks": "",
           "title": {
            "standoff": 15
           },
           "zerolinecolor": "white",
           "zerolinewidth": 2
          },
          "yaxis": {
           "automargin": true,
           "gridcolor": "white",
           "linecolor": "white",
           "ticks": "",
           "title": {
            "standoff": 15
           },
           "zerolinecolor": "white",
           "zerolinewidth": 2
          }
         }
        },
        "title": {
         "text": "Histograma do Total de Pessoas Entrevistadas"
        },
        "xaxis": {
         "anchor": "y",
         "domain": [
          0,
          1
         ],
         "title": {
          "text": "Total"
         }
        },
        "yaxis": {
         "anchor": "x",
         "domain": [
          0,
          1
         ],
         "title": {
          "text": "count"
         }
        }
       }
      }
     },
     "metadata": {},
     "output_type": "display_data"
    }
   ],
   "source": [
    "# Excluindo região e ano\n",
    "R = df.to_numpy()[:, 2:-2]\n",
    "R = R.reshape(-1)\n",
    "\n",
    "df_R = pd.DataFrame(R, columns=['Total'])\n",
    "\n",
    "# Histograma do rendimento médio\n",
    "fig = px.histogram(df_R, x='Total')\n",
    "fig.update_layout(\n",
    "    title='Histograma do Total de Pessoas Entrevistadas',\n",
    ")\n",
    "fig.show()"
   ]
  },
  {
   "cell_type": "code",
   "execution_count": null,
   "metadata": {},
   "outputs": [],
   "source": []
  }
 ],
 "metadata": {
  "kernelspec": {
   "display_name": ".venv",
   "language": "python",
   "name": "python3"
  },
  "language_info": {
   "codemirror_mode": {
    "name": "ipython",
    "version": 3
   },
   "file_extension": ".py",
   "mimetype": "text/x-python",
   "name": "python",
   "nbconvert_exporter": "python",
   "pygments_lexer": "ipython3",
   "version": "3.12.3"
  }
 },
 "nbformat": 4,
 "nbformat_minor": 2
}
